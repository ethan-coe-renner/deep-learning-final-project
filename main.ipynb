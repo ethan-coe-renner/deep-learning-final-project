{
 "cells": [
  {
   "cell_type": "code",
   "execution_count": 92,
   "metadata": {},
   "outputs": [],
   "source": [
    "import os\n",
    "os.environ[\"DEEPLAKE_DOWNLOAD_PATH\"] = \"./dataset\""
   ]
  },
  {
   "cell_type": "code",
   "execution_count": 93,
   "metadata": {},
   "outputs": [
    {
     "name": "stdout",
     "output_type": "stream",
     "text": [
      "./dataset\\hub_activeloop_wiki-art loaded successfully.\n",
      "** Loaded local copy of dataset. Downloaded on: Wed Dec 14 00:48:59 2022\n"
     ]
    },
    {
     "name": "stderr",
     "output_type": "stream",
     "text": [
      "100%|██████████| 81433/81433 [00:02<00:00, 28291.77it/s]\n",
      "c:\\Users\\ramon\\Developer\\.venv\\lib\\site-packages\\deeplake\\integrations\\pytorch\\common.py:91: UserWarning: Decode method for tensors ['images'] is defaulting to numpy. Please consider specifying a decode_method in .pytorch() that maximizes the data preprocessing speed based on your transformation.\n",
      "  warnings.warn(\n"
     ]
    },
    {
     "name": "stdout",
     "output_type": "stream",
     "text": [
      "Unfiltered len: 81433\n",
      "Filtered len: 24484\n",
      "Train: 19587\n",
      "Validate: 4897\n"
     ]
    }
   ],
   "source": [
    "import deeplake\n",
    "from torchvision import transforms\n",
    "from pprint import pprint\n",
    "import numpy as np\n",
    "\n",
    "ds = deeplake.dataset('hub://activeloop/wiki-art', access_method = 'local')\n",
    "\n",
    "filtered_labels = ['realism', 'expressionism', 'romanticism'] #? Top Three\n",
    "# filtered_labels = [\"action_painting\", \"analytical_cubism\", \"synthetic_cubism\"] #? Bottom three, for testing\n",
    "@deeplake.compute\n",
    "def filter_labels(sample_in, labels_list):\n",
    "    return sample_in.labels.data()['text'][0] in labels_list\n",
    "\n",
    "ds_view = ds.filter(filter_labels(filtered_labels), scheduler = 'threaded', num_workers = 0)\n",
    "first_eight_percent = int(len(ds_view) * 0.8)\n",
    "train = ds_view[:first_eight_percent]\n",
    "validate = ds_view[first_eight_percent:]\n",
    "\n",
    "print(\"Unfiltered len:\", len(ds))\n",
    "print(\"Filtered len:\", len(ds_view))\n",
    "print(\"Train:\", len(train))\n",
    "print(\"Validate:\", len(validate))\n",
    "\n",
    "transformation = transforms.Compose([\n",
    "    transforms.ToTensor(),\n",
    "    transforms.Normalize((0.4982, 0.4496, 0.3861),\n",
    "                         (0.2846, 0.2787, 0.2712)),\n",
    "    transforms.CenterCrop(32)\n",
    "])\n",
    "\n",
    "wikiart_train = train.pytorch( \n",
    "    transform={'images': transformation, 'labels': None},\n",
    "    tensors=[\"images\", \"labels\"],\n",
    "    # decode_method={'images':'pil', 'labels': 'numpy'},\n",
    "    shuffle=True,\n",
    "    batch_size=32\n",
    ")\n",
    "\n",
    "wikiart_validate = validate.pytorch( \n",
    "    transform={'images': transformation, 'labels': None},\n",
    "    tensors=[\"images\", \"labels\"],\n",
    "    # decode_method={'images':'pil', 'labels': 'numpy'},\n",
    "    shuffle=True,\n",
    "    batch_size=32\n",
    ")"
   ]
  },
  {
   "cell_type": "code",
   "execution_count": 94,
   "metadata": {},
   "outputs": [],
   "source": [
    "import datetime\n",
    "import torch\n",
    "import torch.nn as nn\n",
    "import torch.nn.functional as F\n",
    "\n",
    "class Net(nn.Module):\n",
    "    def __init__(self, n):\n",
    "        super().__init__()\n",
    "        self.conv1 = nn.Conv2d(3,n,kernel_size=3, padding=1)\n",
    "        self.conv2 = nn.Conv2d(n,n//2,kernel_size=3, padding=1)\n",
    "        self.conv3 = nn.Conv2d(n//2,n//2,kernel_size=3, padding=1)\n",
    "\n",
    "        self.ch = 4 * 4 * (n//2)\n",
    "        self.fc1 = nn.Linear(self.ch, 32)\n",
    "        self.fc2 = nn.Linear(32, 27)\n",
    "\n",
    "    def forward(self, x):\n",
    "        out = F.max_pool2d(torch.tanh(self.conv1(x)), 2)\n",
    "        out = F.max_pool2d(torch.tanh(self.conv2(out)), 2)\n",
    "        out = F.max_pool2d(torch.tanh(self.conv3(out)), 2)\n",
    "        out = out.view(-1, self.ch)\n",
    "        out = torch.tanh(self.fc1(out))\n",
    "        out = self.fc2(out)\n",
    "        out = F.log_softmax(out,dim=1)\n",
    "        return out\n",
    "\n",
    "class Net_Skip(nn.Module):\n",
    "    def __init__(self, n):\n",
    "        super().__init__()\n",
    "        self.conv1 = nn.Conv2d(3,n,kernel_size=3, padding=1)\n",
    "        self.conv2 = nn.Conv2d(n,n//2,kernel_size=3, padding=1)\n",
    "        self.conv3 = nn.Conv2d(n//2,n//2,kernel_size=3, padding=1)\n",
    "\n",
    "        self.ch = 4 * 4 * (n//2)\n",
    "        self.fc1 = nn.Linear(self.ch, 32)\n",
    "        self.fc2 = nn.Linear(32, 3)\n",
    "    \n",
    "    def forward(self, x):\n",
    "        out = F.max_pool2d(torch.tanh(self.conv1(x)), 2)\n",
    "        out = F.max_pool2d(torch.tanh(self.conv2(out)), 2)\n",
    "        out1 = out\n",
    "        out = F.max_pool2d(torch.tanh(self.conv3(out)) + out1, 2)\n",
    "        out = out.view(-1, self.ch)\n",
    "        out = torch.tanh(self.fc1(out))\n",
    "        out = self.fc2(out)\n",
    "        out = F.log_softmax(out,dim=1)\n",
    "        return out\n",
    "\n",
    "\n",
    "class Net_Dropout(nn.Module):\n",
    "    def __init__(self, n):\n",
    "        super().__init__()\n",
    "        self.conv1 = nn.Conv2d(3,n,kernel_size=3, padding=1)\n",
    "        self.conv1_dropout = nn.Dropout2d(p=0.3)\n",
    "        self.conv2 = nn.Conv2d(n,n//2,kernel_size=3, padding=1)\n",
    "        self.conv2_dropout = nn.Dropout2d(p=0.3)\n",
    "        self.conv3 = nn.Conv2d(n//2,n//2,kernel_size=3, padding=1)\n",
    "        self.conv3_dropout = nn.Dropout2d(p=0.3)\n",
    "\n",
    "        self.ch = 4 * 4 * (n//2)\n",
    "        self.fc1 = nn.Linear(self.ch, 32)\n",
    "        self.fc2 = nn.Linear(32, 3)\n",
    "    \n",
    "    def forward(self, x):\n",
    "        out = F.max_pool2d(torch.tanh(self.conv1(x)), 2)\n",
    "        out = self.conv1_dropout(out)\n",
    "        out = F.max_pool2d(torch.tanh(self.conv2(out)), 2)\n",
    "        out = self.conv2_dropout(out)\n",
    "        out = F.max_pool2d(torch.tanh(self.conv3(out)), 2)\n",
    "        out = self.conv3_dropout(out)\n",
    "        out = out.view(-1, self.ch)\n",
    "        out = torch.tanh(self.fc1(out))\n",
    "        out = self.fc2(out)\n",
    "        out = F.log_softmax(out,dim=1)\n",
    "        return out\n",
    "\n",
    "def training_function(train_loader, model, loss_fn, optimizer, device, n_epochs):\n",
    "    for epoch in range(1, n_epochs + 1):\n",
    "        loss_train = 0.0\n",
    "        for imgs, labels in train_loader:\n",
    "            labels = labels.flatten() # this is needed because for some reason every label is in a seperate tensor\n",
    "            # print(labels)\n",
    "            # print(imgs.shape)\n",
    "            imgs = imgs.to(device=device)\n",
    "            labels = labels.to(device=device)\n",
    "            outputs = model(imgs).to(device=device)\n",
    "            loss = loss_fn(outputs, labels)\n",
    "\n",
    "            optimizer.zero_grad()\n",
    "            loss.backward()\n",
    "            optimizer.step()\n",
    "\n",
    "            loss_train += loss.item()\n",
    "\n",
    "        print('{} Epoch {}, Training loss {}'.format(\n",
    "            datetime.datetime.now(), epoch,\n",
    "                loss_train / len(train_loader)))\n",
    "\n",
    "\n",
    "def validate(model, train_loader, val_loader, device):\n",
    "    for name, loader in [(\"train\", train_loader), (\"val\", val_loader)]:\n",
    "        correct = 0\n",
    "        total = 0\n",
    "        with torch.no_grad():\n",
    "            for imgs, labels in loader:\n",
    "                # labels = labels.flatten()\n",
    "                imgs = imgs.to(device=device)\n",
    "                labels = labels.to(device=device)\n",
    "                outputs = model(imgs).to(device=device)\n",
    "                _, predicted = torch.max(outputs, dim=1)\n",
    "                total += labels.shape[0]\n",
    "                correct += int((predicted == labels).sum())\n",
    "        print(\"Accuracy {}: {:.6f}\".format(name, correct / total))"
   ]
  },
  {
   "cell_type": "code",
   "execution_count": 95,
   "metadata": {},
   "outputs": [
    {
     "name": "stdout",
     "output_type": "stream",
     "text": [
      "Training on cuda:\n",
      "\tdevice: NVIDIA GeForce RTX 3060 Ti\n",
      "\tSize of wikiart: 613\n"
     ]
    },
    {
     "name": "stderr",
     "output_type": "stream",
     "text": [
      "Please wait, filling up the shuffle buffer with samples.: 100%|█████████▉| 1.90G/1.91G [00:09<00:00, 213MB/s]\n"
     ]
    },
    {
     "name": "stdout",
     "output_type": "stream",
     "text": [
      "Shuffle buffer filling is complete.\n",
      "2022-12-16 23:45:25.705236 Epoch 1, Training loss 1.200792768456613\n"
     ]
    },
    {
     "name": "stderr",
     "output_type": "stream",
     "text": [
      "Please wait, filling up the shuffle buffer with samples.: 100%|█████████▉| 1.91G/1.91G [00:09<00:00, 226MB/s]\n"
     ]
    },
    {
     "name": "stdout",
     "output_type": "stream",
     "text": [
      "Shuffle buffer filling is complete.\n",
      "2022-12-16 23:49:55.222351 Epoch 2, Training loss 0.9207099290111909\n"
     ]
    },
    {
     "name": "stderr",
     "output_type": "stream",
     "text": [
      "Please wait, filling up the shuffle buffer with samples.: 100%|█████████▉| 1.90G/1.91G [00:09<00:00, 214MB/s]\n"
     ]
    },
    {
     "name": "stdout",
     "output_type": "stream",
     "text": [
      "Shuffle buffer filling is complete.\n",
      "2022-12-16 23:54:24.153242 Epoch 3, Training loss 0.9075033687067265\n"
     ]
    },
    {
     "name": "stderr",
     "output_type": "stream",
     "text": [
      "Please wait, filling up the shuffle buffer with samples.: 100%|█████████▉| 1.91G/1.91G [00:08<00:00, 235MB/s]\n"
     ]
    },
    {
     "name": "stdout",
     "output_type": "stream",
     "text": [
      "Shuffle buffer filling is complete.\n",
      "2022-12-16 23:58:44.322435 Epoch 4, Training loss 0.9240387209476888\n"
     ]
    },
    {
     "name": "stderr",
     "output_type": "stream",
     "text": [
      "Please wait, filling up the shuffle buffer with samples.: 100%|█████████▉| 1.91G/1.91G [00:08<00:00, 241MB/s]\n"
     ]
    },
    {
     "name": "stdout",
     "output_type": "stream",
     "text": [
      "Shuffle buffer filling is complete.\n",
      "2022-12-17 00:03:04.900077 Epoch 5, Training loss 0.9106155175466522\n"
     ]
    },
    {
     "name": "stderr",
     "output_type": "stream",
     "text": [
      "Please wait, filling up the shuffle buffer with samples.: 100%|█████████▉| 1.90G/1.91G [00:09<00:00, 220MB/s]\n"
     ]
    },
    {
     "name": "stdout",
     "output_type": "stream",
     "text": [
      "Shuffle buffer filling is complete.\n",
      "2022-12-17 00:07:25.380633 Epoch 6, Training loss 0.8983166057367309\n"
     ]
    },
    {
     "name": "stderr",
     "output_type": "stream",
     "text": [
      "Please wait, filling up the shuffle buffer with samples.: 100%|█████████▉| 1.91G/1.91G [00:08<00:00, 231MB/s]\n"
     ]
    },
    {
     "name": "stdout",
     "output_type": "stream",
     "text": [
      "Shuffle buffer filling is complete.\n",
      "2022-12-17 00:11:46.811188 Epoch 7, Training loss 0.9028761765112885\n"
     ]
    },
    {
     "name": "stderr",
     "output_type": "stream",
     "text": [
      "Please wait, filling up the shuffle buffer with samples.: 100%|█████████▉| 1.91G/1.91G [00:08<00:00, 238MB/s]\n"
     ]
    },
    {
     "name": "stdout",
     "output_type": "stream",
     "text": [
      "Shuffle buffer filling is complete.\n",
      "2022-12-17 00:16:06.879124 Epoch 8, Training loss 0.8948246926604049\n"
     ]
    },
    {
     "name": "stderr",
     "output_type": "stream",
     "text": [
      "Please wait, filling up the shuffle buffer with samples.: 100%|█████████▉| 1.91G/1.91G [00:08<00:00, 233MB/s]\n"
     ]
    },
    {
     "name": "stdout",
     "output_type": "stream",
     "text": [
      "Shuffle buffer filling is complete.\n",
      "2022-12-17 00:20:26.325700 Epoch 9, Training loss 0.8982661828325779\n"
     ]
    },
    {
     "name": "stderr",
     "output_type": "stream",
     "text": [
      "Please wait, filling up the shuffle buffer with samples.: 100%|█████████▉| 1.91G/1.91G [00:08<00:00, 237MB/s]\n"
     ]
    },
    {
     "name": "stdout",
     "output_type": "stream",
     "text": [
      "Shuffle buffer filling is complete.\n",
      "2022-12-17 00:24:46.241298 Epoch 10, Training loss 0.8724438902021038\n"
     ]
    },
    {
     "name": "stderr",
     "output_type": "stream",
     "text": [
      "Please wait, filling up the shuffle buffer with samples.: 100%|█████████▉| 1.90G/1.91G [00:08<00:00, 229MB/s]\n"
     ]
    },
    {
     "name": "stdout",
     "output_type": "stream",
     "text": [
      "Shuffle buffer filling is complete.\n",
      "2022-12-17 00:29:06.176485 Epoch 11, Training loss 0.881102444199909\n"
     ]
    },
    {
     "name": "stderr",
     "output_type": "stream",
     "text": [
      "Please wait, filling up the shuffle buffer with samples.: 100%|█████████▉| 1.91G/1.91G [00:08<00:00, 241MB/s]\n"
     ]
    },
    {
     "name": "stdout",
     "output_type": "stream",
     "text": [
      "Shuffle buffer filling is complete.\n",
      "2022-12-17 00:33:26.970674 Epoch 12, Training loss 0.8828092208208113\n"
     ]
    },
    {
     "name": "stderr",
     "output_type": "stream",
     "text": [
      "Please wait, filling up the shuffle buffer with samples.: 100%|█████████▉| 1.90G/1.91G [00:09<00:00, 218MB/s]\n"
     ]
    },
    {
     "name": "stdout",
     "output_type": "stream",
     "text": [
      "Shuffle buffer filling is complete.\n",
      "2022-12-17 00:37:47.346739 Epoch 13, Training loss 0.8736639240632049\n"
     ]
    },
    {
     "name": "stderr",
     "output_type": "stream",
     "text": [
      "Please wait, filling up the shuffle buffer with samples.: 100%|█████████▉| 1.90G/1.91G [00:09<00:00, 227MB/s]\n"
     ]
    },
    {
     "name": "stdout",
     "output_type": "stream",
     "text": [
      "Shuffle buffer filling is complete.\n",
      "2022-12-17 00:42:07.736003 Epoch 14, Training loss 0.8733508613136814\n"
     ]
    },
    {
     "name": "stderr",
     "output_type": "stream",
     "text": [
      "Please wait, filling up the shuffle buffer with samples.: 100%|█████████▉| 1.91G/1.91G [00:08<00:00, 234MB/s]\n"
     ]
    },
    {
     "name": "stdout",
     "output_type": "stream",
     "text": [
      "Shuffle buffer filling is complete.\n",
      "2022-12-17 00:46:28.587788 Epoch 15, Training loss 0.8669464589137627\n"
     ]
    },
    {
     "name": "stderr",
     "output_type": "stream",
     "text": [
      "Please wait, filling up the shuffle buffer with samples.: 100%|█████████▉| 1.91G/1.91G [00:08<00:00, 238MB/s]\n"
     ]
    },
    {
     "name": "stdout",
     "output_type": "stream",
     "text": [
      "Shuffle buffer filling is complete.\n",
      "2022-12-17 00:50:49.793007 Epoch 16, Training loss 0.874502073833643\n"
     ]
    },
    {
     "name": "stderr",
     "output_type": "stream",
     "text": [
      "Please wait, filling up the shuffle buffer with samples.: 100%|█████████▉| 1.91G/1.91G [00:08<00:00, 230MB/s]\n"
     ]
    },
    {
     "name": "stdout",
     "output_type": "stream",
     "text": [
      "Shuffle buffer filling is complete.\n",
      "2022-12-17 00:55:09.592806 Epoch 17, Training loss 0.8564353183179267\n"
     ]
    },
    {
     "name": "stderr",
     "output_type": "stream",
     "text": [
      "Please wait, filling up the shuffle buffer with samples.: 100%|█████████▉| 1.91G/1.91G [00:08<00:00, 232MB/s]\n"
     ]
    },
    {
     "name": "stdout",
     "output_type": "stream",
     "text": [
      "Shuffle buffer filling is complete.\n",
      "2022-12-17 00:59:29.869423 Epoch 18, Training loss 0.8537561011061583\n"
     ]
    },
    {
     "name": "stderr",
     "output_type": "stream",
     "text": [
      "Please wait, filling up the shuffle buffer with samples.: 100%|█████████▉| 1.91G/1.91G [00:09<00:00, 226MB/s]\n"
     ]
    },
    {
     "name": "stdout",
     "output_type": "stream",
     "text": [
      "Shuffle buffer filling is complete.\n",
      "2022-12-17 01:03:49.334021 Epoch 19, Training loss 0.8707380408077801\n"
     ]
    },
    {
     "name": "stderr",
     "output_type": "stream",
     "text": [
      "Please wait, filling up the shuffle buffer with samples.: 100%|█████████▉| 1.91G/1.91G [00:08<00:00, 229MB/s]\n"
     ]
    },
    {
     "name": "stdout",
     "output_type": "stream",
     "text": [
      "Shuffle buffer filling is complete.\n",
      "2022-12-17 01:08:10.102354 Epoch 20, Training loss 0.8685998421703233\n"
     ]
    },
    {
     "name": "stderr",
     "output_type": "stream",
     "text": [
      "Please wait, filling up the shuffle buffer with samples.: 100%|█████████▉| 1.91G/1.91G [00:08<00:00, 238MB/s]\n"
     ]
    },
    {
     "name": "stdout",
     "output_type": "stream",
     "text": [
      "Shuffle buffer filling is complete.\n",
      "2022-12-17 01:12:30.419566 Epoch 21, Training loss 0.8573868317471827\n"
     ]
    },
    {
     "name": "stderr",
     "output_type": "stream",
     "text": [
      "Please wait, filling up the shuffle buffer with samples.: 100%|█████████▉| 1.90G/1.91G [00:09<00:00, 213MB/s]\n"
     ]
    },
    {
     "name": "stdout",
     "output_type": "stream",
     "text": [
      "Shuffle buffer filling is complete.\n",
      "2022-12-17 01:16:52.185425 Epoch 22, Training loss 0.8670545451792768\n"
     ]
    },
    {
     "name": "stderr",
     "output_type": "stream",
     "text": [
      "Please wait, filling up the shuffle buffer with samples.: 100%|█████████▉| 1.91G/1.91G [00:08<00:00, 231MB/s]\n"
     ]
    },
    {
     "name": "stdout",
     "output_type": "stream",
     "text": [
      "Shuffle buffer filling is complete.\n",
      "2022-12-17 01:21:12.672037 Epoch 23, Training loss 0.86030554640157\n"
     ]
    },
    {
     "name": "stderr",
     "output_type": "stream",
     "text": [
      "Please wait, filling up the shuffle buffer with samples.: 100%|█████████▉| 1.91G/1.91G [00:08<00:00, 240MB/s]\n"
     ]
    },
    {
     "name": "stdout",
     "output_type": "stream",
     "text": [
      "Shuffle buffer filling is complete.\n",
      "2022-12-17 01:25:32.404366 Epoch 24, Training loss 0.8418282403642552\n"
     ]
    },
    {
     "name": "stderr",
     "output_type": "stream",
     "text": [
      "Please wait, filling up the shuffle buffer with samples.: 100%|█████████▉| 1.91G/1.91G [00:08<00:00, 228MB/s]\n"
     ]
    },
    {
     "name": "stdout",
     "output_type": "stream",
     "text": [
      "Shuffle buffer filling is complete.\n",
      "2022-12-17 01:29:52.279455 Epoch 25, Training loss 0.8600851952251758\n"
     ]
    },
    {
     "name": "stderr",
     "output_type": "stream",
     "text": [
      "Please wait, filling up the shuffle buffer with samples.: 100%|█████████▉| 1.91G/1.91G [00:08<00:00, 235MB/s]\n"
     ]
    },
    {
     "name": "stdout",
     "output_type": "stream",
     "text": [
      "Shuffle buffer filling is complete.\n",
      "2022-12-17 01:34:10.629828 Epoch 26, Training loss 0.8506598096784527\n"
     ]
    },
    {
     "name": "stderr",
     "output_type": "stream",
     "text": [
      "Please wait, filling up the shuffle buffer with samples.: 100%|█████████▉| 1.91G/1.91G [00:08<00:00, 233MB/s]\n"
     ]
    },
    {
     "name": "stdout",
     "output_type": "stream",
     "text": [
      "Shuffle buffer filling is complete.\n",
      "2022-12-17 01:38:29.644856 Epoch 27, Training loss 0.8426004112447455\n"
     ]
    },
    {
     "name": "stderr",
     "output_type": "stream",
     "text": [
      "Please wait, filling up the shuffle buffer with samples.: 100%|█████████▉| 1.90G/1.91G [00:08<00:00, 243MB/s]\n"
     ]
    },
    {
     "name": "stdout",
     "output_type": "stream",
     "text": [
      "Shuffle buffer filling is complete.\n",
      "2022-12-17 01:42:51.438262 Epoch 28, Training loss 0.8386027196492106\n"
     ]
    },
    {
     "name": "stderr",
     "output_type": "stream",
     "text": [
      "Please wait, filling up the shuffle buffer with samples.: 100%|█████████▉| 1.91G/1.91G [00:09<00:00, 227MB/s]\n"
     ]
    },
    {
     "name": "stdout",
     "output_type": "stream",
     "text": [
      "Shuffle buffer filling is complete.\n",
      "2022-12-17 01:47:11.241752 Epoch 29, Training loss 0.8554379308495981\n"
     ]
    },
    {
     "name": "stderr",
     "output_type": "stream",
     "text": [
      "Please wait, filling up the shuffle buffer with samples.: 100%|█████████▉| 1.90G/1.91G [00:08<00:00, 236MB/s]\n"
     ]
    },
    {
     "name": "stdout",
     "output_type": "stream",
     "text": [
      "Shuffle buffer filling is complete.\n",
      "2022-12-17 01:51:32.259400 Epoch 30, Training loss 0.8501188901373068\n"
     ]
    },
    {
     "name": "stderr",
     "output_type": "stream",
     "text": [
      "Please wait, filling up the shuffle buffer with samples.: 100%|█████████▉| 1.91G/1.91G [00:08<00:00, 232MB/s]\n"
     ]
    },
    {
     "name": "stdout",
     "output_type": "stream",
     "text": [
      "Shuffle buffer filling is complete.\n",
      "2022-12-17 01:55:52.420254 Epoch 31, Training loss 0.8535417211386352\n"
     ]
    },
    {
     "name": "stderr",
     "output_type": "stream",
     "text": [
      "Please wait, filling up the shuffle buffer with samples.: 100%|█████████▉| 1.91G/1.91G [00:09<00:00, 224MB/s]\n"
     ]
    },
    {
     "name": "stdout",
     "output_type": "stream",
     "text": [
      "Shuffle buffer filling is complete.\n",
      "2022-12-17 02:00:17.321451 Epoch 32, Training loss 0.8446597181758911\n"
     ]
    },
    {
     "name": "stderr",
     "output_type": "stream",
     "text": [
      "Please wait, filling up the shuffle buffer with samples.: 100%|█████████▉| 1.91G/1.91G [00:08<00:00, 242MB/s]\n"
     ]
    },
    {
     "name": "stdout",
     "output_type": "stream",
     "text": [
      "Shuffle buffer filling is complete.\n",
      "2022-12-17 02:04:38.819441 Epoch 33, Training loss 0.8474616712691538\n"
     ]
    },
    {
     "name": "stderr",
     "output_type": "stream",
     "text": [
      "Please wait, filling up the shuffle buffer with samples.: 100%|█████████▉| 1.91G/1.91G [00:08<00:00, 242MB/s]\n"
     ]
    },
    {
     "name": "stdout",
     "output_type": "stream",
     "text": [
      "Shuffle buffer filling is complete.\n",
      "2022-12-17 02:08:58.839106 Epoch 34, Training loss 0.8563171453032563\n"
     ]
    },
    {
     "name": "stderr",
     "output_type": "stream",
     "text": [
      "Please wait, filling up the shuffle buffer with samples.: 100%|█████████▉| 1.91G/1.91G [00:08<00:00, 231MB/s]\n"
     ]
    },
    {
     "name": "stdout",
     "output_type": "stream",
     "text": [
      "Shuffle buffer filling is complete.\n",
      "2022-12-17 02:13:19.680957 Epoch 35, Training loss 0.844957873638458\n"
     ]
    },
    {
     "name": "stderr",
     "output_type": "stream",
     "text": [
      "Please wait, filling up the shuffle buffer with samples.: 100%|█████████▉| 1.91G/1.91G [00:08<00:00, 231MB/s]\n"
     ]
    },
    {
     "name": "stdout",
     "output_type": "stream",
     "text": [
      "Shuffle buffer filling is complete.\n",
      "2022-12-17 02:17:40.989228 Epoch 36, Training loss 0.8342290352452637\n"
     ]
    },
    {
     "name": "stderr",
     "output_type": "stream",
     "text": [
      "Please wait, filling up the shuffle buffer with samples.: 100%|█████████▉| 1.91G/1.91G [00:08<00:00, 236MB/s]\n"
     ]
    },
    {
     "name": "stdout",
     "output_type": "stream",
     "text": [
      "Shuffle buffer filling is complete.\n",
      "2022-12-17 02:22:00.678757 Epoch 37, Training loss 0.8398442284901418\n"
     ]
    },
    {
     "name": "stderr",
     "output_type": "stream",
     "text": [
      "Please wait, filling up the shuffle buffer with samples.: 100%|█████████▉| 1.91G/1.91G [00:08<00:00, 238MB/s]\n"
     ]
    },
    {
     "name": "stdout",
     "output_type": "stream",
     "text": [
      "Shuffle buffer filling is complete.\n",
      "2022-12-17 02:26:20.119820 Epoch 38, Training loss 0.8510271636541282\n"
     ]
    },
    {
     "name": "stderr",
     "output_type": "stream",
     "text": [
      "Please wait, filling up the shuffle buffer with samples.:  99%|█████████▉| 1.90G/1.91G [00:08<00:00, 227MB/s]\n"
     ]
    },
    {
     "name": "stdout",
     "output_type": "stream",
     "text": [
      "Shuffle buffer filling is complete.\n",
      "2022-12-17 02:30:39.749196 Epoch 39, Training loss 0.8495702491693357\n"
     ]
    },
    {
     "name": "stderr",
     "output_type": "stream",
     "text": [
      "Please wait, filling up the shuffle buffer with samples.: 100%|█████████▉| 1.91G/1.91G [00:08<00:00, 239MB/s]\n"
     ]
    },
    {
     "name": "stdout",
     "output_type": "stream",
     "text": [
      "Shuffle buffer filling is complete.\n",
      "2022-12-17 02:34:58.449271 Epoch 40, Training loss 0.8378396680849023\n"
     ]
    },
    {
     "name": "stderr",
     "output_type": "stream",
     "text": [
      "Please wait, filling up the shuffle buffer with samples.: 100%|█████████▉| 1.90G/1.91G [00:08<00:00, 241MB/s]\n"
     ]
    },
    {
     "name": "stdout",
     "output_type": "stream",
     "text": [
      "Shuffle buffer filling is complete.\n",
      "2022-12-17 02:39:17.718699 Epoch 41, Training loss 0.8379898124767945\n"
     ]
    },
    {
     "name": "stderr",
     "output_type": "stream",
     "text": [
      "Please wait, filling up the shuffle buffer with samples.: 100%|█████████▉| 1.91G/1.91G [00:08<00:00, 233MB/s]\n"
     ]
    },
    {
     "name": "stdout",
     "output_type": "stream",
     "text": [
      "Shuffle buffer filling is complete.\n",
      "2022-12-17 02:43:36.192541 Epoch 42, Training loss 0.8359707315341489\n"
     ]
    },
    {
     "name": "stderr",
     "output_type": "stream",
     "text": [
      "Please wait, filling up the shuffle buffer with samples.: 100%|█████████▉| 1.91G/1.91G [00:08<00:00, 238MB/s]\n"
     ]
    },
    {
     "name": "stdout",
     "output_type": "stream",
     "text": [
      "Shuffle buffer filling is complete.\n",
      "2022-12-17 02:47:54.948616 Epoch 43, Training loss 0.8403202625413898\n"
     ]
    },
    {
     "name": "stderr",
     "output_type": "stream",
     "text": [
      "Please wait, filling up the shuffle buffer with samples.: 100%|█████████▉| 1.90G/1.91G [00:08<00:00, 238MB/s]\n"
     ]
    },
    {
     "name": "stdout",
     "output_type": "stream",
     "text": [
      "Shuffle buffer filling is complete.\n",
      "2022-12-17 02:52:15.201160 Epoch 44, Training loss 0.8349260014480323\n"
     ]
    },
    {
     "name": "stderr",
     "output_type": "stream",
     "text": [
      "Please wait, filling up the shuffle buffer with samples.: 100%|█████████▉| 1.90G/1.91G [00:08<00:00, 236MB/s]\n"
     ]
    },
    {
     "name": "stdout",
     "output_type": "stream",
     "text": [
      "Shuffle buffer filling is complete.\n",
      "2022-12-17 02:56:34.701172 Epoch 45, Training loss 0.8255825634395513\n"
     ]
    },
    {
     "name": "stderr",
     "output_type": "stream",
     "text": [
      "Please wait, filling up the shuffle buffer with samples.: 100%|█████████▉| 1.91G/1.91G [00:08<00:00, 237MB/s]\n"
     ]
    },
    {
     "name": "stdout",
     "output_type": "stream",
     "text": [
      "Shuffle buffer filling is complete.\n",
      "2022-12-17 03:00:54.950767 Epoch 46, Training loss 0.8475958721478262\n"
     ]
    },
    {
     "name": "stderr",
     "output_type": "stream",
     "text": [
      "Please wait, filling up the shuffle buffer with samples.: 100%|█████████▉| 1.91G/1.91G [00:08<00:00, 241MB/s]\n"
     ]
    },
    {
     "name": "stdout",
     "output_type": "stream",
     "text": [
      "Shuffle buffer filling is complete.\n",
      "2022-12-17 03:05:14.553533 Epoch 47, Training loss 0.8360357873299772\n"
     ]
    },
    {
     "name": "stderr",
     "output_type": "stream",
     "text": [
      "Please wait, filling up the shuffle buffer with samples.: 100%|█████████▉| 1.90G/1.91G [00:08<00:00, 233MB/s]\n"
     ]
    },
    {
     "name": "stdout",
     "output_type": "stream",
     "text": [
      "Shuffle buffer filling is complete.\n",
      "2022-12-17 03:09:34.828278 Epoch 48, Training loss 0.823593035170149\n"
     ]
    },
    {
     "name": "stderr",
     "output_type": "stream",
     "text": [
      "Please wait, filling up the shuffle buffer with samples.: 100%|█████████▉| 1.91G/1.91G [00:09<00:00, 221MB/s]\n"
     ]
    },
    {
     "name": "stdout",
     "output_type": "stream",
     "text": [
      "Shuffle buffer filling is complete.\n",
      "2022-12-17 03:13:54.306104 Epoch 49, Training loss 0.8300778272198619\n"
     ]
    },
    {
     "name": "stderr",
     "output_type": "stream",
     "text": [
      "Please wait, filling up the shuffle buffer with samples.: 100%|█████████▉| 1.91G/1.91G [00:08<00:00, 231MB/s]\n"
     ]
    },
    {
     "name": "stdout",
     "output_type": "stream",
     "text": [
      "Shuffle buffer filling is complete.\n",
      "2022-12-17 03:18:13.367405 Epoch 50, Training loss 0.8395775759784082\n"
     ]
    },
    {
     "name": "stderr",
     "output_type": "stream",
     "text": [
      "Please wait, filling up the shuffle buffer with samples.:  99%|█████████▉| 1.90G/1.91G [00:08<00:00, 230MB/s]\n"
     ]
    },
    {
     "name": "stdout",
     "output_type": "stream",
     "text": [
      "Shuffle buffer filling is complete.\n",
      "2022-12-17 03:22:33.435862 Epoch 51, Training loss 0.8223728780159164\n"
     ]
    },
    {
     "name": "stderr",
     "output_type": "stream",
     "text": [
      "Please wait, filling up the shuffle buffer with samples.: 100%|█████████▉| 1.90G/1.91G [00:09<00:00, 211MB/s]\n"
     ]
    },
    {
     "name": "stdout",
     "output_type": "stream",
     "text": [
      "Shuffle buffer filling is complete.\n",
      "2022-12-17 03:26:53.591212 Epoch 52, Training loss 0.8245662471695786\n"
     ]
    },
    {
     "name": "stderr",
     "output_type": "stream",
     "text": [
      "Please wait, filling up the shuffle buffer with samples.: 100%|█████████▉| 1.91G/1.91G [00:08<00:00, 231MB/s]\n"
     ]
    },
    {
     "name": "stdout",
     "output_type": "stream",
     "text": [
      "Shuffle buffer filling is complete.\n",
      "2022-12-17 03:31:12.273266 Epoch 53, Training loss 0.826238794340395\n"
     ]
    },
    {
     "name": "stderr",
     "output_type": "stream",
     "text": [
      "Please wait, filling up the shuffle buffer with samples.:  99%|█████████▉| 1.90G/1.91G [00:08<00:00, 238MB/s]\n"
     ]
    },
    {
     "name": "stdout",
     "output_type": "stream",
     "text": [
      "Shuffle buffer filling is complete.\n",
      "2022-12-17 03:35:33.113037 Epoch 54, Training loss 0.8385122946386042\n"
     ]
    },
    {
     "name": "stderr",
     "output_type": "stream",
     "text": [
      "Please wait, filling up the shuffle buffer with samples.: 100%|█████████▉| 1.91G/1.91G [00:08<00:00, 241MB/s]\n"
     ]
    },
    {
     "name": "stdout",
     "output_type": "stream",
     "text": [
      "Shuffle buffer filling is complete.\n",
      "2022-12-17 03:39:53.156626 Epoch 55, Training loss 0.8292262322750994\n"
     ]
    },
    {
     "name": "stderr",
     "output_type": "stream",
     "text": [
      "Please wait, filling up the shuffle buffer with samples.: 100%|█████████▉| 1.90G/1.91G [00:08<00:00, 228MB/s]\n"
     ]
    },
    {
     "name": "stdout",
     "output_type": "stream",
     "text": [
      "Shuffle buffer filling is complete.\n",
      "2022-12-17 03:44:13.527774 Epoch 56, Training loss 0.8335376879227686\n"
     ]
    },
    {
     "name": "stderr",
     "output_type": "stream",
     "text": [
      "Please wait, filling up the shuffle buffer with samples.:  99%|█████████▉| 1.89G/1.91G [00:08<00:00, 227MB/s]\n"
     ]
    },
    {
     "name": "stdout",
     "output_type": "stream",
     "text": [
      "Shuffle buffer filling is complete.\n",
      "2022-12-17 03:48:35.292520 Epoch 57, Training loss 0.8204771813619001\n"
     ]
    },
    {
     "name": "stderr",
     "output_type": "stream",
     "text": [
      "Please wait, filling up the shuffle buffer with samples.:  97%|█████████▋| 1.85G/1.91G [00:09<00:00, 214MB/s]\n"
     ]
    },
    {
     "name": "stdout",
     "output_type": "stream",
     "text": [
      "Shuffle buffer filling is complete.\n",
      "2022-12-17 03:52:56.044875 Epoch 58, Training loss 0.8366546344990442\n"
     ]
    },
    {
     "name": "stderr",
     "output_type": "stream",
     "text": [
      "Please wait, filling up the shuffle buffer with samples.: 100%|█████████▉| 1.91G/1.91G [00:09<00:00, 224MB/s]\n"
     ]
    },
    {
     "name": "stdout",
     "output_type": "stream",
     "text": [
      "Shuffle buffer filling is complete.\n",
      "2022-12-17 03:57:15.989142 Epoch 59, Training loss 0.8212165774665104\n"
     ]
    },
    {
     "name": "stderr",
     "output_type": "stream",
     "text": [
      "Please wait, filling up the shuffle buffer with samples.: 100%|█████████▉| 1.91G/1.91G [00:08<00:00, 231MB/s]\n"
     ]
    },
    {
     "name": "stdout",
     "output_type": "stream",
     "text": [
      "Shuffle buffer filling is complete.\n",
      "2022-12-17 04:01:40.913696 Epoch 60, Training loss 0.8297992368603997\n"
     ]
    },
    {
     "name": "stderr",
     "output_type": "stream",
     "text": [
      "Please wait, filling up the shuffle buffer with samples.: 100%|█████████▉| 1.90G/1.91G [00:12<00:00, 167MB/s]\n"
     ]
    },
    {
     "name": "stdout",
     "output_type": "stream",
     "text": [
      "Shuffle buffer filling is complete.\n",
      "2022-12-17 04:06:05.677863 Epoch 61, Training loss 0.8138547787658542\n"
     ]
    },
    {
     "name": "stderr",
     "output_type": "stream",
     "text": [
      "Please wait, filling up the shuffle buffer with samples.: 100%|█████████▉| 1.91G/1.91G [00:08<00:00, 241MB/s]\n"
     ]
    },
    {
     "name": "stdout",
     "output_type": "stream",
     "text": [
      "Shuffle buffer filling is complete.\n",
      "2022-12-17 04:10:24.145583 Epoch 62, Training loss 0.8219671463305176\n"
     ]
    },
    {
     "name": "stderr",
     "output_type": "stream",
     "text": [
      "Please wait, filling up the shuffle buffer with samples.:  98%|█████████▊| 1.88G/1.91G [00:08<00:00, 239MB/s]\n"
     ]
    },
    {
     "name": "stdout",
     "output_type": "stream",
     "text": [
      "Shuffle buffer filling is complete.\n",
      "2022-12-17 04:14:43.673063 Epoch 63, Training loss 0.8131686204992733\n"
     ]
    },
    {
     "name": "stderr",
     "output_type": "stream",
     "text": [
      "Please wait, filling up the shuffle buffer with samples.: 100%|█████████▉| 1.91G/1.91G [00:08<00:00, 237MB/s]\n"
     ]
    },
    {
     "name": "stdout",
     "output_type": "stream",
     "text": [
      "Shuffle buffer filling is complete.\n",
      "2022-12-17 04:19:04.575352 Epoch 64, Training loss 0.8318858173406921\n"
     ]
    },
    {
     "name": "stderr",
     "output_type": "stream",
     "text": [
      "Please wait, filling up the shuffle buffer with samples.: 100%|█████████▉| 1.91G/1.91G [00:09<00:00, 222MB/s]\n"
     ]
    },
    {
     "name": "stdout",
     "output_type": "stream",
     "text": [
      "Shuffle buffer filling is complete.\n",
      "2022-12-17 04:23:24.168624 Epoch 65, Training loss 0.8294870793138788\n"
     ]
    },
    {
     "name": "stderr",
     "output_type": "stream",
     "text": [
      "Please wait, filling up the shuffle buffer with samples.:  99%|█████████▉| 1.89G/1.91G [00:08<00:00, 226MB/s]\n"
     ]
    },
    {
     "name": "stdout",
     "output_type": "stream",
     "text": [
      "Shuffle buffer filling is complete.\n",
      "2022-12-17 04:27:43.090449 Epoch 66, Training loss 0.820327086705368\n"
     ]
    },
    {
     "name": "stderr",
     "output_type": "stream",
     "text": [
      "Please wait, filling up the shuffle buffer with samples.: 100%|█████████▉| 1.91G/1.91G [00:08<00:00, 235MB/s]\n"
     ]
    },
    {
     "name": "stdout",
     "output_type": "stream",
     "text": [
      "Shuffle buffer filling is complete.\n",
      "2022-12-17 04:32:04.851541 Epoch 67, Training loss 0.8289032014023032\n"
     ]
    },
    {
     "name": "stderr",
     "output_type": "stream",
     "text": [
      "Please wait, filling up the shuffle buffer with samples.: 100%|█████████▉| 1.91G/1.91G [00:08<00:00, 237MB/s]\n"
     ]
    },
    {
     "name": "stdout",
     "output_type": "stream",
     "text": [
      "Shuffle buffer filling is complete.\n",
      "2022-12-17 04:36:24.820205 Epoch 68, Training loss 0.8315166210175339\n"
     ]
    },
    {
     "name": "stderr",
     "output_type": "stream",
     "text": [
      "Please wait, filling up the shuffle buffer with samples.: 100%|█████████▉| 1.91G/1.91G [00:08<00:00, 241MB/s]\n"
     ]
    },
    {
     "name": "stdout",
     "output_type": "stream",
     "text": [
      "Shuffle buffer filling is complete.\n",
      "2022-12-17 04:40:44.065573 Epoch 69, Training loss 0.8090603762894237\n"
     ]
    },
    {
     "name": "stderr",
     "output_type": "stream",
     "text": [
      "Please wait, filling up the shuffle buffer with samples.: 100%|█████████▉| 1.91G/1.91G [00:08<00:00, 241MB/s]\n"
     ]
    },
    {
     "name": "stdout",
     "output_type": "stream",
     "text": [
      "Shuffle buffer filling is complete.\n",
      "2022-12-17 04:45:03.445447 Epoch 70, Training loss 0.825295835538945\n"
     ]
    },
    {
     "name": "stderr",
     "output_type": "stream",
     "text": [
      "Please wait, filling up the shuffle buffer with samples.: 100%|█████████▉| 1.91G/1.91G [00:08<00:00, 228MB/s]\n"
     ]
    },
    {
     "name": "stdout",
     "output_type": "stream",
     "text": [
      "Shuffle buffer filling is complete.\n",
      "2022-12-17 04:49:24.969025 Epoch 71, Training loss 0.8197208876321989\n"
     ]
    },
    {
     "name": "stderr",
     "output_type": "stream",
     "text": [
      "Please wait, filling up the shuffle buffer with samples.: 100%|█████████▉| 1.90G/1.91G [00:08<00:00, 228MB/s]\n"
     ]
    },
    {
     "name": "stdout",
     "output_type": "stream",
     "text": [
      "Shuffle buffer filling is complete.\n",
      "2022-12-17 04:53:46.501173 Epoch 72, Training loss 0.8092103695305487\n"
     ]
    },
    {
     "name": "stderr",
     "output_type": "stream",
     "text": [
      "Please wait, filling up the shuffle buffer with samples.: 100%|█████████▉| 1.91G/1.91G [00:09<00:00, 226MB/s]\n"
     ]
    },
    {
     "name": "stdout",
     "output_type": "stream",
     "text": [
      "Shuffle buffer filling is complete.\n",
      "2022-12-17 04:58:07.263038 Epoch 73, Training loss 0.8100615253650734\n"
     ]
    },
    {
     "name": "stderr",
     "output_type": "stream",
     "text": [
      "Please wait, filling up the shuffle buffer with samples.: 100%|█████████▉| 1.91G/1.91G [00:08<00:00, 233MB/s]\n"
     ]
    },
    {
     "name": "stdout",
     "output_type": "stream",
     "text": [
      "Shuffle buffer filling is complete.\n",
      "2022-12-17 05:02:26.569659 Epoch 74, Training loss 0.8213726964704753\n"
     ]
    },
    {
     "name": "stderr",
     "output_type": "stream",
     "text": [
      "Please wait, filling up the shuffle buffer with samples.: 100%|█████████▉| 1.91G/1.91G [00:08<00:00, 238MB/s]\n"
     ]
    },
    {
     "name": "stdout",
     "output_type": "stream",
     "text": [
      "Shuffle buffer filling is complete.\n",
      "2022-12-17 05:06:47.528358 Epoch 75, Training loss 0.8209438205834897\n"
     ]
    },
    {
     "name": "stderr",
     "output_type": "stream",
     "text": [
      "Please wait, filling up the shuffle buffer with samples.: 100%|█████████▉| 1.91G/1.91G [00:09<00:00, 225MB/s]\n"
     ]
    },
    {
     "name": "stdout",
     "output_type": "stream",
     "text": [
      "Shuffle buffer filling is complete.\n",
      "2022-12-17 05:11:06.213624 Epoch 76, Training loss 0.8242528920850396\n"
     ]
    },
    {
     "name": "stderr",
     "output_type": "stream",
     "text": [
      "Please wait, filling up the shuffle buffer with samples.: 100%|█████████▉| 1.90G/1.91G [00:08<00:00, 233MB/s]\n"
     ]
    },
    {
     "name": "stdout",
     "output_type": "stream",
     "text": [
      "Shuffle buffer filling is complete.\n",
      "2022-12-17 05:15:26.797867 Epoch 77, Training loss 0.8123884267412236\n"
     ]
    },
    {
     "name": "stderr",
     "output_type": "stream",
     "text": [
      "Please wait, filling up the shuffle buffer with samples.: 100%|█████████▉| 1.90G/1.91G [00:08<00:00, 238MB/s]\n"
     ]
    },
    {
     "name": "stdout",
     "output_type": "stream",
     "text": [
      "Shuffle buffer filling is complete.\n",
      "2022-12-17 05:19:46.529993 Epoch 78, Training loss 0.812457665703814\n"
     ]
    },
    {
     "name": "stderr",
     "output_type": "stream",
     "text": [
      "Please wait, filling up the shuffle buffer with samples.: 100%|█████████▉| 1.91G/1.91G [00:08<00:00, 239MB/s]\n"
     ]
    },
    {
     "name": "stdout",
     "output_type": "stream",
     "text": [
      "Shuffle buffer filling is complete.\n",
      "2022-12-17 05:24:06.830491 Epoch 79, Training loss 0.8180646970746568\n"
     ]
    },
    {
     "name": "stderr",
     "output_type": "stream",
     "text": [
      "Please wait, filling up the shuffle buffer with samples.: 100%|█████████▉| 1.91G/1.91G [00:08<00:00, 238MB/s]\n"
     ]
    },
    {
     "name": "stdout",
     "output_type": "stream",
     "text": [
      "Shuffle buffer filling is complete.\n",
      "2022-12-17 05:28:27.514373 Epoch 80, Training loss 0.8145872205252749\n"
     ]
    },
    {
     "name": "stderr",
     "output_type": "stream",
     "text": [
      "Please wait, filling up the shuffle buffer with samples.: 100%|█████████▉| 1.90G/1.91G [00:08<00:00, 235MB/s]\n"
     ]
    },
    {
     "name": "stdout",
     "output_type": "stream",
     "text": [
      "Shuffle buffer filling is complete.\n",
      "2022-12-17 05:32:48.477189 Epoch 81, Training loss 0.8118969933729965\n"
     ]
    },
    {
     "name": "stderr",
     "output_type": "stream",
     "text": [
      "Please wait, filling up the shuffle buffer with samples.: 100%|█████████▉| 1.91G/1.91G [00:08<00:00, 236MB/s]\n"
     ]
    },
    {
     "name": "stdout",
     "output_type": "stream",
     "text": [
      "Shuffle buffer filling is complete.\n",
      "2022-12-17 05:37:08.281705 Epoch 82, Training loss 0.8064900115253875\n"
     ]
    },
    {
     "name": "stderr",
     "output_type": "stream",
     "text": [
      "Please wait, filling up the shuffle buffer with samples.: 100%|█████████▉| 1.90G/1.91G [00:08<00:00, 239MB/s]\n"
     ]
    },
    {
     "name": "stdout",
     "output_type": "stream",
     "text": [
      "Shuffle buffer filling is complete.\n",
      "2022-12-17 05:41:28.732734 Epoch 83, Training loss 0.8186742311395206\n"
     ]
    },
    {
     "name": "stderr",
     "output_type": "stream",
     "text": [
      "Please wait, filling up the shuffle buffer with samples.: 100%|█████████▉| 1.91G/1.91G [00:08<00:00, 234MB/s]\n"
     ]
    },
    {
     "name": "stdout",
     "output_type": "stream",
     "text": [
      "Shuffle buffer filling is complete.\n",
      "2022-12-17 05:45:49.143674 Epoch 84, Training loss 0.8146975971454509\n"
     ]
    },
    {
     "name": "stderr",
     "output_type": "stream",
     "text": [
      "Please wait, filling up the shuffle buffer with samples.: 100%|█████████▉| 1.90G/1.91G [00:08<00:00, 230MB/s]\n"
     ]
    },
    {
     "name": "stdout",
     "output_type": "stream",
     "text": [
      "Shuffle buffer filling is complete.\n",
      "2022-12-17 05:50:08.161558 Epoch 85, Training loss 0.8039033370636416\n"
     ]
    },
    {
     "name": "stderr",
     "output_type": "stream",
     "text": [
      "Please wait, filling up the shuffle buffer with samples.: 100%|█████████▉| 1.91G/1.91G [00:08<00:00, 241MB/s]\n"
     ]
    },
    {
     "name": "stdout",
     "output_type": "stream",
     "text": [
      "Shuffle buffer filling is complete.\n",
      "2022-12-17 05:54:28.765288 Epoch 86, Training loss 0.8064421108068495\n"
     ]
    },
    {
     "name": "stderr",
     "output_type": "stream",
     "text": [
      "Please wait, filling up the shuffle buffer with samples.: 100%|█████████▉| 1.90G/1.91G [00:08<00:00, 231MB/s]\n"
     ]
    },
    {
     "name": "stdout",
     "output_type": "stream",
     "text": [
      "Shuffle buffer filling is complete.\n",
      "2022-12-17 05:58:50.032597 Epoch 87, Training loss 0.81857266676951\n"
     ]
    },
    {
     "name": "stderr",
     "output_type": "stream",
     "text": [
      "Please wait, filling up the shuffle buffer with samples.: 100%|█████████▉| 1.91G/1.91G [00:08<00:00, 246MB/s]\n"
     ]
    },
    {
     "name": "stdout",
     "output_type": "stream",
     "text": [
      "Shuffle buffer filling is complete.\n",
      "2022-12-17 06:03:09.663478 Epoch 88, Training loss 0.8066630625997049\n"
     ]
    },
    {
     "name": "stderr",
     "output_type": "stream",
     "text": [
      "Please wait, filling up the shuffle buffer with samples.: 100%|█████████▉| 1.91G/1.91G [00:09<00:00, 224MB/s]\n"
     ]
    },
    {
     "name": "stdout",
     "output_type": "stream",
     "text": [
      "Shuffle buffer filling is complete.\n",
      "2022-12-17 06:07:30.318675 Epoch 89, Training loss 0.7741848882804299\n"
     ]
    },
    {
     "name": "stderr",
     "output_type": "stream",
     "text": [
      "Please wait, filling up the shuffle buffer with samples.: 100%|█████████▉| 1.91G/1.91G [00:08<00:00, 237MB/s]\n"
     ]
    },
    {
     "name": "stdout",
     "output_type": "stream",
     "text": [
      "Shuffle buffer filling is complete.\n",
      "2022-12-17 06:11:49.504900 Epoch 90, Training loss 0.8065933777690906\n"
     ]
    },
    {
     "name": "stderr",
     "output_type": "stream",
     "text": [
      "Please wait, filling up the shuffle buffer with samples.: 100%|█████████▉| 1.91G/1.91G [00:08<00:00, 245MB/s]\n"
     ]
    },
    {
     "name": "stdout",
     "output_type": "stream",
     "text": [
      "Shuffle buffer filling is complete.\n",
      "2022-12-17 06:16:09.867964 Epoch 91, Training loss 0.8026964873513039\n"
     ]
    },
    {
     "name": "stderr",
     "output_type": "stream",
     "text": [
      "Please wait, filling up the shuffle buffer with samples.: 100%|█████████▉| 1.90G/1.91G [00:08<00:00, 227MB/s]\n"
     ]
    },
    {
     "name": "stdout",
     "output_type": "stream",
     "text": [
      "Shuffle buffer filling is complete.\n",
      "2022-12-17 06:20:29.592628 Epoch 92, Training loss 0.7880852033321853\n"
     ]
    },
    {
     "name": "stderr",
     "output_type": "stream",
     "text": [
      "Please wait, filling up the shuffle buffer with samples.:  99%|█████████▉| 1.90G/1.91G [00:09<00:00, 215MB/s]\n"
     ]
    },
    {
     "name": "stdout",
     "output_type": "stream",
     "text": [
      "Shuffle buffer filling is complete.\n",
      "2022-12-17 06:24:49.960679 Epoch 93, Training loss 0.8134591136534879\n"
     ]
    },
    {
     "name": "stderr",
     "output_type": "stream",
     "text": [
      "Please wait, filling up the shuffle buffer with samples.: 100%|█████████▉| 1.91G/1.91G [00:08<00:00, 234MB/s]\n"
     ]
    },
    {
     "name": "stdout",
     "output_type": "stream",
     "text": [
      "Shuffle buffer filling is complete.\n",
      "2022-12-17 06:29:11.469756 Epoch 94, Training loss 0.8077694205339347\n"
     ]
    },
    {
     "name": "stderr",
     "output_type": "stream",
     "text": [
      "Please wait, filling up the shuffle buffer with samples.: 100%|█████████▉| 1.90G/1.91G [00:08<00:00, 241MB/s]\n"
     ]
    },
    {
     "name": "stdout",
     "output_type": "stream",
     "text": [
      "Shuffle buffer filling is complete.\n",
      "2022-12-17 06:33:32.182103 Epoch 95, Training loss 0.8075368659142375\n"
     ]
    },
    {
     "name": "stderr",
     "output_type": "stream",
     "text": [
      "Please wait, filling up the shuffle buffer with samples.: 100%|█████████▉| 1.91G/1.91G [00:08<00:00, 236MB/s]\n"
     ]
    },
    {
     "name": "stdout",
     "output_type": "stream",
     "text": [
      "Shuffle buffer filling is complete.\n",
      "2022-12-17 06:37:51.900472 Epoch 96, Training loss 0.7972546564764533\n"
     ]
    },
    {
     "name": "stderr",
     "output_type": "stream",
     "text": [
      "Please wait, filling up the shuffle buffer with samples.: 100%|█████████▉| 1.91G/1.91G [00:08<00:00, 228MB/s]\n"
     ]
    },
    {
     "name": "stdout",
     "output_type": "stream",
     "text": [
      "Shuffle buffer filling is complete.\n",
      "2022-12-17 06:42:12.474934 Epoch 97, Training loss 0.8093240344699405\n"
     ]
    },
    {
     "name": "stderr",
     "output_type": "stream",
     "text": [
      "Please wait, filling up the shuffle buffer with samples.: 100%|█████████▉| 1.91G/1.91G [00:08<00:00, 229MB/s]\n"
     ]
    },
    {
     "name": "stdout",
     "output_type": "stream",
     "text": [
      "Shuffle buffer filling is complete.\n",
      "2022-12-17 06:46:32.434643 Epoch 98, Training loss 0.8021115632469463\n"
     ]
    },
    {
     "name": "stderr",
     "output_type": "stream",
     "text": [
      "Please wait, filling up the shuffle buffer with samples.: 100%|█████████▉| 1.90G/1.91G [00:08<00:00, 230MB/s]\n"
     ]
    },
    {
     "name": "stdout",
     "output_type": "stream",
     "text": [
      "Shuffle buffer filling is complete.\n",
      "2022-12-17 06:50:53.060266 Epoch 99, Training loss 0.802694385631244\n"
     ]
    },
    {
     "name": "stderr",
     "output_type": "stream",
     "text": [
      "Please wait, filling up the shuffle buffer with samples.: 100%|█████████▉| 1.91G/1.91G [00:09<00:00, 213MB/s]\n"
     ]
    },
    {
     "name": "stdout",
     "output_type": "stream",
     "text": [
      "Shuffle buffer filling is complete.\n",
      "2022-12-17 06:55:12.952489 Epoch 100, Training loss 0.8104986553771655\n"
     ]
    }
   ],
   "source": [
    "import torch\n",
    "import torch.optim as optim\n",
    "\n",
    "device = (torch.device('cuda') if torch.cuda.is_available()\n",
    "                      else torch.device('cpu'))\n",
    "\n",
    "network = Net(32)\n",
    "\n",
    "print(f\"Training on {device}:\")\n",
    "print(f\"\\tdevice: {torch.cuda.get_device_name(0)}\")\n",
    "print(\"\\tSize of wikiart:\", len(wikiart_train))\n",
    "\n",
    "training_function(\n",
    "    train_loader = wikiart_train,\n",
    "    model = network.to(device=device),\n",
    "    loss_fn = nn.NLLLoss(),\n",
    "    optimizer = optim.SGD(network.parameters(), lr=1e-2),\n",
    "    device=device,\n",
    "    n_epochs = 100,\n",
    ")"
   ]
  },
  {
   "cell_type": "code",
   "execution_count": 96,
   "metadata": {},
   "outputs": [
    {
     "name": "stderr",
     "output_type": "stream",
     "text": [
      "Please wait, filling up the shuffle buffer with samples.: 100%|█████████▉| 1.90G/1.91G [00:08<00:00, 237MB/s]\n"
     ]
    },
    {
     "name": "stdout",
     "output_type": "stream",
     "text": [
      "Shuffle buffer filling is complete.\n",
      "Accuracy train: 15.177567\n"
     ]
    },
    {
     "name": "stderr",
     "output_type": "stream",
     "text": [
      "Please wait, filling up the shuffle buffer with samples.: 100%|█████████▉| 1.91G/1.91G [00:09<00:00, 221MB/s]\n"
     ]
    },
    {
     "name": "stdout",
     "output_type": "stream",
     "text": [
      "Shuffle buffer filling is complete.\n",
      "Accuracy val: 0.006535\n"
     ]
    }
   ],
   "source": [
    "validate(network.to(device=device), wikiart_train, wikiart_validate, device)"
   ]
  },
  {
   "cell_type": "code",
   "execution_count": 97,
   "metadata": {},
   "outputs": [],
   "source": [
    "torch.save(network.state_dict(), './models/net_version_two.pt') #! REMEMEBER TO NOT RUN AGAIN WITHOUT COMMENTING OUT FUCKER "
   ]
  }
 ],
 "metadata": {
  "kernelspec": {
   "display_name": ".venv",
   "language": "python",
   "name": "python3"
  },
  "language_info": {
   "codemirror_mode": {
    "name": "ipython",
    "version": 3
   },
   "file_extension": ".py",
   "mimetype": "text/x-python",
   "name": "python",
   "nbconvert_exporter": "python",
   "pygments_lexer": "ipython3",
   "version": "3.8.9"
  },
  "orig_nbformat": 4,
  "vscode": {
   "interpreter": {
    "hash": "e65492a0a5c92b4bc5b0942a6cc90be5b76ff7ee9f987c8ee4766f0870a8a585"
   }
  }
 },
 "nbformat": 4,
 "nbformat_minor": 2
}
