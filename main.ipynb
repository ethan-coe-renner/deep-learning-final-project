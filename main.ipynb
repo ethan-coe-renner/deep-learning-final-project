{
 "cells": [
  {
   "cell_type": "code",
   "execution_count": 41,
   "metadata": {},
   "outputs": [],
   "source": [
    "import os\n",
    "os.environ[\"DEEPLAKE_DOWNLOAD_PATH\"] = \"./dataset\""
   ]
  },
  {
   "cell_type": "code",
   "execution_count": 42,
   "metadata": {},
   "outputs": [
    {
     "name": "stdout",
     "output_type": "stream",
     "text": [
      "./dataset\\hub_activeloop_wiki-art loaded successfully.\n",
      "** Loaded local copy of dataset. Downloaded on: Wed Dec 14 00:48:59 2022\n"
     ]
    },
    {
     "name": "stderr",
     "output_type": "stream",
     "text": [
      "100%|██████████| 81433/81433 [00:03<00:00, 27083.41it/s]\n",
      "c:\\Users\\ramon\\Developer\\.venv\\lib\\site-packages\\deeplake\\integrations\\pytorch\\common.py:91: UserWarning: Decode method for tensors ['images'] is defaulting to numpy. Please consider specifying a decode_method in .pytorch() that maximizes the data preprocessing speed based on your transformation.\n",
      "  warnings.warn(\n"
     ]
    },
    {
     "name": "stdout",
     "output_type": "stream",
     "text": [
      "Unfiltered len: 81433\n",
      "Filtered len: 424\n",
      "Train: 339\n",
      "Validate: 85\n"
     ]
    }
   ],
   "source": [
    "import deeplake\n",
    "from torchvision import transforms\n",
    "from pprint import pprint\n",
    "import numpy as np\n",
    "\n",
    "ds = deeplake.dataset('hub://activeloop/wiki-art', access_method = 'local')\n",
    "\n",
    "# filtered_labels = ['realism', 'impressionism', 'romanticism'] #? Top Three\n",
    "filtered_labels = [\"action_painting\", \"analytical_cubism\", \"synthetic_cubism\"] #? Bottom three, for testing\n",
    "@deeplake.compute\n",
    "def filter_labels(sample_in, labels_list):\n",
    "    return sample_in.labels.data()['text'][0] in labels_list\n",
    "\n",
    "ds_view = ds.filter(filter_labels(filtered_labels), scheduler = 'threaded', num_workers = 0)\n",
    "first_eight_percent = int(len(ds_view) * 0.8)\n",
    "train = ds_view[:first_eight_percent]\n",
    "validate = ds_view[first_eight_percent:]\n",
    "\n",
    "print(\"Unfiltered len:\", len(ds))\n",
    "print(\"Filtered len:\", len(ds_view))\n",
    "print(\"Train:\", len(train))\n",
    "print(\"Validate:\", len(validate))\n",
    "\n",
    "transformation = transforms.Compose([\n",
    "    transforms.ToTensor(),\n",
    "    # TODO: figure out these values\n",
    "    transforms.Normalize((0.4914, 0.4822, 0.4465),\n",
    "                         (0.2470, 0.2435, 0.2616)),\n",
    "\n",
    "    # TODO: figure out a reasonable value here\n",
    "    transforms.CenterCrop(32)\n",
    "])\n",
    "\n",
    "wikiart_train = train.pytorch( \n",
    "    transform={'images': transformation, 'labels': None},\n",
    "    tensors=[\"images\", \"labels\"],\n",
    "    # decode_method={'images':'pil', 'labels': 'numpy'},\n",
    "    shuffle=True,\n",
    "    batch_size=32\n",
    ")\n",
    "\n",
    "wikiart_validate = validate.pytorch( \n",
    "    transform={'images': transformation, 'labels': None},\n",
    "    tensors=[\"images\", \"labels\"],\n",
    "    # decode_method={'images':'pil', 'labels': 'numpy'},\n",
    "    shuffle=True,\n",
    "    batch_size=32\n",
    ")"
   ]
  },
  {
   "cell_type": "code",
   "execution_count": 47,
   "metadata": {},
   "outputs": [],
   "source": [
    "import datetime\n",
    "import torch\n",
    "import torch.nn as nn\n",
    "import torch.nn.functional as F\n",
    "\n",
    "class Net(nn.Module):\n",
    "    def __init__(self, n):\n",
    "        super().__init__()\n",
    "        self.conv1 = nn.Conv2d(3,n,kernel_size=3, padding=1)\n",
    "        self.conv2 = nn.Conv2d(n,n//2,kernel_size=3, padding=1)\n",
    "        self.conv3 = nn.Conv2d(n//2,n//2,kernel_size=3, padding=1)\n",
    "\n",
    "        self.ch = 4 * 4 * (n//2)\n",
    "        self.fc1 = nn.Linear(self.ch, 32)\n",
    "        self.fc2 = nn.Linear(32, 27)\n",
    "\n",
    "    def forward(self, x):\n",
    "        out = F.max_pool2d(torch.tanh(self.conv1(x)), 2)\n",
    "        out = F.max_pool2d(torch.tanh(self.conv2(out)), 2)\n",
    "        out = F.max_pool2d(torch.tanh(self.conv3(out)), 2)\n",
    "        out = out.view(-1, self.ch)\n",
    "        out = torch.tanh(self.fc1(out))\n",
    "        out = self.fc2(out)\n",
    "        out = F.log_softmax(out,dim=1)\n",
    "        return out\n",
    "\n",
    "\n",
    "def training_function(train_loader, model, loss_fn, optimizer, device, n_epochs):\n",
    "    for epoch in range(1, n_epochs + 1):\n",
    "        loss_train = 0.0\n",
    "        for imgs, labels in train_loader:\n",
    "            labels = labels.flatten() # this is needed because for some reason every label is in a seperate tensor\n",
    "            # print(labels)\n",
    "            # print(imgs.shape)\n",
    "            imgs = imgs.to(device=device)\n",
    "            labels = labels.to(device=device)\n",
    "            outputs = model(imgs)\n",
    "            loss = loss_fn(outputs, labels)\n",
    "\n",
    "            optimizer.zero_grad()\n",
    "            loss.backward()\n",
    "            optimizer.step()\n",
    "\n",
    "            loss_train += loss.item()\n",
    "\n",
    "        if epoch == 1 or epoch % 5 == 0:\n",
    "            print('{} Epoch {}, Training loss {}'.format(\n",
    "                datetime.datetime.now(), epoch,\n",
    "                loss_train / len(train_loader)))\n",
    "\n",
    "\n",
    "def validate(model, train_loader, val_loader):\n",
    "    for name, loader in [(\"train\", train_loader), (\"val\", val_loader)]:\n",
    "        correct = 0\n",
    "        total = 0\n",
    "        with torch.no_grad():\n",
    "            for imgs, labels in loader:\n",
    "                labels = labels.flatten()\n",
    "                outputs = model(imgs)\n",
    "                _, predicted = torch.max(outputs, dim=1)\n",
    "                total += labels.shape[0]\n",
    "                correct += int((predicted == labels).sum())\n",
    "                print(correct, total)\n",
    "        print(\"Accuracy {}: {:.6f}\".format(name, correct / total))"
   ]
  },
  {
   "cell_type": "code",
   "execution_count": 48,
   "metadata": {},
   "outputs": [
    {
     "name": "stdout",
     "output_type": "stream",
     "text": [
      "Training on cuda:\n",
      "\tdevice: NVIDIA GeForce RTX 3060 Ti\n",
      "\tSize of wikiart: 11\n"
     ]
    },
    {
     "name": "stderr",
     "output_type": "stream",
     "text": [
      "Please wait, filling up the shuffle buffer with samples.:  37%|███▋      | 720M/1.91G [00:04<00:07, 164MB/s]\n"
     ]
    },
    {
     "name": "stdout",
     "output_type": "stream",
     "text": [
      "Shuffle buffer filling is complete.\n",
      "2022-12-15 20:37:52.031065 Epoch 1, Training loss 3.3410109823400322\n"
     ]
    },
    {
     "name": "stderr",
     "output_type": "stream",
     "text": [
      "Please wait, filling up the shuffle buffer with samples.:  37%|███▋      | 720M/1.91G [00:04<00:07, 166MB/s]\n"
     ]
    },
    {
     "name": "stdout",
     "output_type": "stream",
     "text": [
      "Shuffle buffer filling is complete.\n"
     ]
    },
    {
     "ename": "RuntimeError",
     "evalue": "Input type (torch.FloatTensor) and weight type (torch.cuda.FloatTensor) should be the same or input should be a MKLDNN tensor and weight is a dense tensor",
     "output_type": "error",
     "traceback": [
      "\u001b[1;31m---------------------------------------------------------------------------\u001b[0m",
      "\u001b[1;31mRuntimeError\u001b[0m                              Traceback (most recent call last)",
      "Cell \u001b[1;32mIn[48], line 22\u001b[0m\n\u001b[0;32m     11\u001b[0m \u001b[39mprint\u001b[39m(\u001b[39m\"\u001b[39m\u001b[39m\\t\u001b[39;00m\u001b[39mSize of wikiart:\u001b[39m\u001b[39m\"\u001b[39m, \u001b[39mlen\u001b[39m(wikiart_train))\n\u001b[0;32m     13\u001b[0m training_function(\n\u001b[0;32m     14\u001b[0m     train_loader \u001b[39m=\u001b[39m wikiart_train,\n\u001b[0;32m     15\u001b[0m     model \u001b[39m=\u001b[39m cnn32\u001b[39m.\u001b[39mto(device\u001b[39m=\u001b[39mdevice),\n\u001b[1;32m   (...)\u001b[0m\n\u001b[0;32m     19\u001b[0m     n_epochs \u001b[39m=\u001b[39m \u001b[39m1\u001b[39m,\n\u001b[0;32m     20\u001b[0m )\n\u001b[1;32m---> 22\u001b[0m validate(cnn32\u001b[39m.\u001b[39;49mto(device\u001b[39m=\u001b[39;49mdevice), wikiart_train, wikiart_validate)\n",
      "Cell \u001b[1;32mIn[47], line 59\u001b[0m, in \u001b[0;36mvalidate\u001b[1;34m(model, train_loader, val_loader)\u001b[0m\n\u001b[0;32m     57\u001b[0m \u001b[39mfor\u001b[39;00m imgs, labels \u001b[39min\u001b[39;00m loader:\n\u001b[0;32m     58\u001b[0m     labels \u001b[39m=\u001b[39m labels\u001b[39m.\u001b[39mflatten()\n\u001b[1;32m---> 59\u001b[0m     outputs \u001b[39m=\u001b[39m model(imgs)\n\u001b[0;32m     60\u001b[0m     _, predicted \u001b[39m=\u001b[39m torch\u001b[39m.\u001b[39mmax(outputs, dim\u001b[39m=\u001b[39m\u001b[39m1\u001b[39m)\n\u001b[0;32m     61\u001b[0m     total \u001b[39m+\u001b[39m\u001b[39m=\u001b[39m labels\u001b[39m.\u001b[39mshape[\u001b[39m0\u001b[39m]\n",
      "File \u001b[1;32mc:\\Users\\ramon\\Developer\\.venv\\lib\\site-packages\\torch\\nn\\modules\\module.py:1190\u001b[0m, in \u001b[0;36mModule._call_impl\u001b[1;34m(self, *input, **kwargs)\u001b[0m\n\u001b[0;32m   1186\u001b[0m \u001b[39m# If we don't have any hooks, we want to skip the rest of the logic in\u001b[39;00m\n\u001b[0;32m   1187\u001b[0m \u001b[39m# this function, and just call forward.\u001b[39;00m\n\u001b[0;32m   1188\u001b[0m \u001b[39mif\u001b[39;00m \u001b[39mnot\u001b[39;00m (\u001b[39mself\u001b[39m\u001b[39m.\u001b[39m_backward_hooks \u001b[39mor\u001b[39;00m \u001b[39mself\u001b[39m\u001b[39m.\u001b[39m_forward_hooks \u001b[39mor\u001b[39;00m \u001b[39mself\u001b[39m\u001b[39m.\u001b[39m_forward_pre_hooks \u001b[39mor\u001b[39;00m _global_backward_hooks\n\u001b[0;32m   1189\u001b[0m         \u001b[39mor\u001b[39;00m _global_forward_hooks \u001b[39mor\u001b[39;00m _global_forward_pre_hooks):\n\u001b[1;32m-> 1190\u001b[0m     \u001b[39mreturn\u001b[39;00m forward_call(\u001b[39m*\u001b[39;49m\u001b[39minput\u001b[39;49m, \u001b[39m*\u001b[39;49m\u001b[39m*\u001b[39;49mkwargs)\n\u001b[0;32m   1191\u001b[0m \u001b[39m# Do not call functions when jit is used\u001b[39;00m\n\u001b[0;32m   1192\u001b[0m full_backward_hooks, non_full_backward_hooks \u001b[39m=\u001b[39m [], []\n",
      "Cell \u001b[1;32mIn[47], line 18\u001b[0m, in \u001b[0;36mNet.forward\u001b[1;34m(self, x)\u001b[0m\n\u001b[0;32m     17\u001b[0m \u001b[39mdef\u001b[39;00m \u001b[39mforward\u001b[39m(\u001b[39mself\u001b[39m, x):\n\u001b[1;32m---> 18\u001b[0m     out \u001b[39m=\u001b[39m F\u001b[39m.\u001b[39mmax_pool2d(torch\u001b[39m.\u001b[39mtanh(\u001b[39mself\u001b[39;49m\u001b[39m.\u001b[39;49mconv1(x)), \u001b[39m2\u001b[39m)\n\u001b[0;32m     19\u001b[0m     out \u001b[39m=\u001b[39m F\u001b[39m.\u001b[39mmax_pool2d(torch\u001b[39m.\u001b[39mtanh(\u001b[39mself\u001b[39m\u001b[39m.\u001b[39mconv2(out)), \u001b[39m2\u001b[39m)\n\u001b[0;32m     20\u001b[0m     out \u001b[39m=\u001b[39m F\u001b[39m.\u001b[39mmax_pool2d(torch\u001b[39m.\u001b[39mtanh(\u001b[39mself\u001b[39m\u001b[39m.\u001b[39mconv3(out)), \u001b[39m2\u001b[39m)\n",
      "File \u001b[1;32mc:\\Users\\ramon\\Developer\\.venv\\lib\\site-packages\\torch\\nn\\modules\\module.py:1190\u001b[0m, in \u001b[0;36mModule._call_impl\u001b[1;34m(self, *input, **kwargs)\u001b[0m\n\u001b[0;32m   1186\u001b[0m \u001b[39m# If we don't have any hooks, we want to skip the rest of the logic in\u001b[39;00m\n\u001b[0;32m   1187\u001b[0m \u001b[39m# this function, and just call forward.\u001b[39;00m\n\u001b[0;32m   1188\u001b[0m \u001b[39mif\u001b[39;00m \u001b[39mnot\u001b[39;00m (\u001b[39mself\u001b[39m\u001b[39m.\u001b[39m_backward_hooks \u001b[39mor\u001b[39;00m \u001b[39mself\u001b[39m\u001b[39m.\u001b[39m_forward_hooks \u001b[39mor\u001b[39;00m \u001b[39mself\u001b[39m\u001b[39m.\u001b[39m_forward_pre_hooks \u001b[39mor\u001b[39;00m _global_backward_hooks\n\u001b[0;32m   1189\u001b[0m         \u001b[39mor\u001b[39;00m _global_forward_hooks \u001b[39mor\u001b[39;00m _global_forward_pre_hooks):\n\u001b[1;32m-> 1190\u001b[0m     \u001b[39mreturn\u001b[39;00m forward_call(\u001b[39m*\u001b[39;49m\u001b[39minput\u001b[39;49m, \u001b[39m*\u001b[39;49m\u001b[39m*\u001b[39;49mkwargs)\n\u001b[0;32m   1191\u001b[0m \u001b[39m# Do not call functions when jit is used\u001b[39;00m\n\u001b[0;32m   1192\u001b[0m full_backward_hooks, non_full_backward_hooks \u001b[39m=\u001b[39m [], []\n",
      "File \u001b[1;32mc:\\Users\\ramon\\Developer\\.venv\\lib\\site-packages\\torch\\nn\\modules\\conv.py:463\u001b[0m, in \u001b[0;36mConv2d.forward\u001b[1;34m(self, input)\u001b[0m\n\u001b[0;32m    462\u001b[0m \u001b[39mdef\u001b[39;00m \u001b[39mforward\u001b[39m(\u001b[39mself\u001b[39m, \u001b[39minput\u001b[39m: Tensor) \u001b[39m-\u001b[39m\u001b[39m>\u001b[39m Tensor:\n\u001b[1;32m--> 463\u001b[0m     \u001b[39mreturn\u001b[39;00m \u001b[39mself\u001b[39;49m\u001b[39m.\u001b[39;49m_conv_forward(\u001b[39minput\u001b[39;49m, \u001b[39mself\u001b[39;49m\u001b[39m.\u001b[39;49mweight, \u001b[39mself\u001b[39;49m\u001b[39m.\u001b[39;49mbias)\n",
      "File \u001b[1;32mc:\\Users\\ramon\\Developer\\.venv\\lib\\site-packages\\torch\\nn\\modules\\conv.py:459\u001b[0m, in \u001b[0;36mConv2d._conv_forward\u001b[1;34m(self, input, weight, bias)\u001b[0m\n\u001b[0;32m    455\u001b[0m \u001b[39mif\u001b[39;00m \u001b[39mself\u001b[39m\u001b[39m.\u001b[39mpadding_mode \u001b[39m!=\u001b[39m \u001b[39m'\u001b[39m\u001b[39mzeros\u001b[39m\u001b[39m'\u001b[39m:\n\u001b[0;32m    456\u001b[0m     \u001b[39mreturn\u001b[39;00m F\u001b[39m.\u001b[39mconv2d(F\u001b[39m.\u001b[39mpad(\u001b[39minput\u001b[39m, \u001b[39mself\u001b[39m\u001b[39m.\u001b[39m_reversed_padding_repeated_twice, mode\u001b[39m=\u001b[39m\u001b[39mself\u001b[39m\u001b[39m.\u001b[39mpadding_mode),\n\u001b[0;32m    457\u001b[0m                     weight, bias, \u001b[39mself\u001b[39m\u001b[39m.\u001b[39mstride,\n\u001b[0;32m    458\u001b[0m                     _pair(\u001b[39m0\u001b[39m), \u001b[39mself\u001b[39m\u001b[39m.\u001b[39mdilation, \u001b[39mself\u001b[39m\u001b[39m.\u001b[39mgroups)\n\u001b[1;32m--> 459\u001b[0m \u001b[39mreturn\u001b[39;00m F\u001b[39m.\u001b[39;49mconv2d(\u001b[39minput\u001b[39;49m, weight, bias, \u001b[39mself\u001b[39;49m\u001b[39m.\u001b[39;49mstride,\n\u001b[0;32m    460\u001b[0m                 \u001b[39mself\u001b[39;49m\u001b[39m.\u001b[39;49mpadding, \u001b[39mself\u001b[39;49m\u001b[39m.\u001b[39;49mdilation, \u001b[39mself\u001b[39;49m\u001b[39m.\u001b[39;49mgroups)\n",
      "\u001b[1;31mRuntimeError\u001b[0m: Input type (torch.FloatTensor) and weight type (torch.cuda.FloatTensor) should be the same or input should be a MKLDNN tensor and weight is a dense tensor"
     ]
    }
   ],
   "source": [
    "import torch\n",
    "import torch.optim as optim\n",
    "\n",
    "device = (torch.device('cuda') if torch.cuda.is_available()\n",
    "                      else torch.device('cpu'))\n",
    "\n",
    "cnn32 = Net(32)\n",
    "\n",
    "print(f\"Training on {device}:\")\n",
    "print(f\"\\tdevice: {torch.cuda.get_device_name(0)}\")\n",
    "print(\"\\tSize of wikiart:\", len(wikiart_train))\n",
    "\n",
    "training_function(\n",
    "    train_loader = wikiart_train,\n",
    "    model = cnn32.to(device=device),\n",
    "    loss_fn = nn.NLLLoss(),\n",
    "    optimizer = optim.SGD(cnn32.parameters(), lr=1e-2),\n",
    "    device=device,\n",
    "    n_epochs = 1,\n",
    ")\n",
    "\n",
    "validate(cnn32.to(device=device), wikiart_train, wikiart_validate)"
   ]
  }
 ],
 "metadata": {
  "kernelspec": {
   "display_name": ".venv",
   "language": "python",
   "name": "python3"
  },
  "language_info": {
   "codemirror_mode": {
    "name": "ipython",
    "version": 3
   },
   "file_extension": ".py",
   "mimetype": "text/x-python",
   "name": "python",
   "nbconvert_exporter": "python",
   "pygments_lexer": "ipython3",
   "version": "3.8.9"
  },
  "orig_nbformat": 4,
  "vscode": {
   "interpreter": {
    "hash": "e65492a0a5c92b4bc5b0942a6cc90be5b76ff7ee9f987c8ee4766f0870a8a585"
   }
  }
 },
 "nbformat": 4,
 "nbformat_minor": 2
}
