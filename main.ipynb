{
 "cells": [
  {
   "cell_type": "code",
   "execution_count": 49,
   "metadata": {},
   "outputs": [],
   "source": [
    "import os\n",
    "os.environ[\"DEEPLAKE_DOWNLOAD_PATH\"] = \"./dataset\""
   ]
  },
  {
   "cell_type": "code",
   "execution_count": 50,
   "metadata": {},
   "outputs": [
    {
     "name": "stdout",
     "output_type": "stream",
     "text": [
      "./dataset\\hub_activeloop_wiki-art loaded successfully.\n",
      "** Loaded local copy of dataset. Downloaded on: Wed Dec 14 00:48:59 2022\n"
     ]
    },
    {
     "name": "stderr",
     "output_type": "stream",
     "text": [
      "100%|██████████| 81433/81433 [00:02<00:00, 27703.29it/s]\n",
      "c:\\Users\\ramon\\Developer\\.venv\\lib\\site-packages\\deeplake\\integrations\\pytorch\\common.py:91: UserWarning: Decode method for tensors ['images'] is defaulting to numpy. Please consider specifying a decode_method in .pytorch() that maximizes the data preprocessing speed based on your transformation.\n",
      "  warnings.warn(\n"
     ]
    },
    {
     "name": "stdout",
     "output_type": "stream",
     "text": [
      "Unfiltered len: 81433\n",
      "Filtered len: 30808\n"
     ]
    }
   ],
   "source": [
    "import deeplake\n",
    "from torchvision import transforms\n",
    "from pprint import pprint\n",
    "\n",
    "ds = deeplake.dataset('hub://activeloop/wiki-art', access_method = 'local')\n",
    "\n",
    "filtered_labels = ['realism', 'impressionism', 'romanticism']\n",
    "@deeplake.compute\n",
    "def filter_labels(sample_in, labels_list):\n",
    "    return sample_in.labels.data()['text'][0] in labels_list\n",
    "\n",
    "ds_view = ds.filter(filter_labels(filtered_labels), scheduler = 'threaded', num_workers = 0)\n",
    "print(\"Unfiltered len:\", len(ds))\n",
    "print(\"Filtered len:\", len(ds_view))\n",
    "\n",
    "transformation = transforms.Compose([\n",
    "    transforms.ToTensor(),\n",
    "    # TODO: figure out these values\n",
    "    transforms.Normalize((0.4914, 0.4822, 0.4465),\n",
    "                         (0.2470, 0.2435, 0.2616)),\n",
    "\n",
    "    # TODO: figure out a reasonable value here\n",
    "    transforms.CenterCrop(32)\n",
    "])\n",
    "\n",
    "wikiart = ds_view.pytorch( \n",
    "    transform={'images': transformation, 'labels': None},\n",
    "    tensors=[\"images\", \"labels\"],\n",
    "    # decode_method={'images':'pil', 'labels': 'numpy'},\n",
    "    shuffle=True,\n",
    "    batch_size=32\n",
    ")"
   ]
  },
  {
   "cell_type": "code",
   "execution_count": 54,
   "metadata": {},
   "outputs": [],
   "source": [
    "import datetime\n",
    "import torch\n",
    "import torch.nn as nn\n",
    "import torch.nn.functional as F\n",
    "\n",
    "class Net(nn.Module):\n",
    "    def __init__(self, n):\n",
    "        super().__init__()\n",
    "        self.conv1 = nn.Conv2d(3,n,kernel_size=3, padding=1)\n",
    "        self.conv2 = nn.Conv2d(n,n//2,kernel_size=3, padding=1)\n",
    "        self.conv3 = nn.Conv2d(n//2,n//2,kernel_size=3, padding=1)\n",
    "\n",
    "        self.ch = 4 * 4 * (n//2)\n",
    "        self.fc1 = nn.Linear(self.ch, 32)\n",
    "        self.fc2 = nn.Linear(32, 27)\n",
    "\n",
    "    def forward(self, x):\n",
    "        out = F.max_pool2d(torch.tanh(self.conv1(x)), 2)\n",
    "        out = F.max_pool2d(torch.tanh(self.conv2(out)), 2)\n",
    "        out = F.max_pool2d(torch.tanh(self.conv3(out)), 2)\n",
    "        out = out.view(-1, self.ch)\n",
    "        out = torch.tanh(self.fc1(out))\n",
    "        out = self.fc2(out)\n",
    "        out = F.log_softmax(out,dim=1)\n",
    "        return out\n",
    "\n",
    "\n",
    "def training_function(train_loader, model, loss_fn, optimizer, device, n_epochs):\n",
    "    for epoch in range(1, n_epochs + 1):\n",
    "        loss_train = 0.0\n",
    "        for imgs, labels in train_loader:\n",
    "            labels = labels.flatten() # this is needed because for some reason every label is in a seperate tensor\n",
    "            # print(labels)\n",
    "            # print(imgs.shape)\n",
    "            imgs = imgs.to(device=device)\n",
    "            labels = labels.to(device=device)\n",
    "            outputs = model(imgs)\n",
    "            loss = loss_fn(outputs, labels)\n",
    "\n",
    "            optimizer.zero_grad()\n",
    "            loss.backward()\n",
    "            optimizer.step()\n",
    "\n",
    "            loss_train += loss.item()\n",
    "\n",
    "        if epoch == 1 or epoch % 5 == 0:\n",
    "            print('{} Epoch {}, Training loss {}'.format(\n",
    "                datetime.datetime.now(), epoch,\n",
    "                loss_train / len(train_loader)))\n",
    "\n",
    "\n",
    "cnn32 = Net(32)"
   ]
  },
  {
   "cell_type": "code",
   "execution_count": 57,
   "metadata": {},
   "outputs": [
    {
     "name": "stdout",
     "output_type": "stream",
     "text": [
      "Training on cuda:\tdevice: NVIDIA GeForce RTX 3060 Ti\n",
      "\tSize of wikiart: 963\n"
     ]
    },
    {
     "name": "stderr",
     "output_type": "stream",
     "text": [
      "\n",
      "\u001b[A\n",
      "\u001b[A\n",
      "\u001b[A\n",
      "\u001b[A\n",
      "\u001b[A\n",
      "\u001b[A\n",
      "\u001b[A\n",
      "\u001b[A\n",
      "\u001b[A\n",
      "\u001b[A\n",
      "\u001b[A\n",
      "\u001b[A\n",
      "\u001b[A\n",
      "\u001b[A"
     ]
    }
   ],
   "source": [
    "import torch\n",
    "import torch.optim as optim\n",
    "\n",
    "device = (torch.device('cuda') if torch.cuda.is_available()\n",
    "                      else torch.device('cpu'))\n",
    "\n",
    "print(f\"Training on {device}:\")\n",
    "print(f\"\\tdevice: {torch.cuda.get_device_name(0)}\")\n",
    "print(\"\\tSize of wikiart:\", len(wikiart))\n",
    "\n",
    "training_function(\n",
    "    train_loader = wikiart,\n",
    "    model = cnn32.to(device=device),\n",
    "    loss_fn = nn.NLLLoss(),\n",
    "    optimizer = optim.SGD(cnn32.parameters(), lr=1e-2),\n",
    "    device=device,\n",
    "    n_epochs = 2,\n",
    ")"
   ]
  }
 ],
 "metadata": {
  "kernelspec": {
   "display_name": ".venv",
   "language": "python",
   "name": "python3"
  },
  "language_info": {
   "codemirror_mode": {
    "name": "ipython",
    "version": 3
   },
   "file_extension": ".py",
   "mimetype": "text/x-python",
   "name": "python",
   "nbconvert_exporter": "python",
   "pygments_lexer": "ipython3",
   "version": "3.8.9"
  },
  "orig_nbformat": 4,
  "vscode": {
   "interpreter": {
    "hash": "e65492a0a5c92b4bc5b0942a6cc90be5b76ff7ee9f987c8ee4766f0870a8a585"
   }
  }
 },
 "nbformat": 4,
 "nbformat_minor": 2
}
