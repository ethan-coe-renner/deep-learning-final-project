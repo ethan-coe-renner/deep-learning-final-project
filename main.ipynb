{
 "cells": [
  {
   "cell_type": "code",
   "execution_count": 21,
   "metadata": {},
   "outputs": [],
   "source": [
    "import os\n",
    "os.environ[\"DEEPLAKE_DOWNLOAD_PATH\"] = \"./dataset\""
   ]
  },
  {
   "cell_type": "code",
   "execution_count": 22,
   "metadata": {},
   "outputs": [
    {
     "name": "stdout",
     "output_type": "stream",
     "text": [
      "./dataset\\hub_activeloop_wiki-art loaded successfully.\n",
      "** Loaded local copy of dataset. Downloaded on: Wed Dec 14 00:48:59 2022\n"
     ]
    },
    {
     "name": "stderr",
     "output_type": "stream",
     "text": [
      "100%|██████████| 81433/81433 [00:02<00:00, 28445.17it/s]\n"
     ]
    },
    {
     "name": "stdout",
     "output_type": "stream",
     "text": [
      "Unfiltered len: 81433\n",
      "Filtered len: 424\n",
      "Train: 339\n",
      "Validate: 85\n"
     ]
    }
   ],
   "source": [
    "import deeplake\n",
    "from torchvision import transforms\n",
    "from pprint import pprint\n",
    "import numpy as np\n",
    "\n",
    "ds = deeplake.dataset('hub://activeloop/wiki-art', access_method = 'local')\n",
    "\n",
    "# filtered_labels = ['realism', 'impressionism', 'romanticism'] #? Top Three\n",
    "filtered_labels = [\"action_painting\", \"analytical_cubism\", \"synthetic_cubism\"] #? Bottom three, for testing\n",
    "@deeplake.compute\n",
    "def filter_labels(sample_in, labels_list):\n",
    "    return sample_in.labels.data()['text'][0] in labels_list\n",
    "\n",
    "ds_view = ds.filter(filter_labels(filtered_labels), scheduler = 'threaded', num_workers = 0)\n",
    "first_eight_percent = int(len(ds_view) * 0.8)\n",
    "train = ds_view[:first_eight_percent]\n",
    "validate = ds_view[first_eight_percent:]\n",
    "\n",
    "print(\"Unfiltered len:\", len(ds))\n",
    "print(\"Filtered len:\", len(ds_view))\n",
    "print(\"Train:\", len(train))\n",
    "print(\"Validate:\", len(validate))\n",
    "\n",
    "transformation = transforms.Compose([\n",
    "    transforms.ToTensor(),\n",
    "    transforms.Normalize((0.5322, 0.4754, 0.4146),\n",
    "                         (0.2907, 0.2803, 0.2766)),\n",
    "\n",
    "    # TODO: figure out a reasonable value here\n",
    "    transforms.CenterCrop(32)\n",
    "])\n",
    "\n",
    "wikiart_train = train.pytorch( \n",
    "    transform={'images': transformation, 'labels': None},\n",
    "    tensors=[\"images\", \"labels\"],\n",
    "    # decode_method={'images':'pil', 'labels': 'numpy'},\n",
    "    shuffle=True,\n",
    "    batch_size=32\n",
    ")\n",
    "\n",
    "wikiart_validate = validate.pytorch( \n",
    "    transform={'images': transformation, 'labels': None},\n",
    "    tensors=[\"images\", \"labels\"],\n",
    "    # decode_method={'images':'pil', 'labels': 'numpy'},\n",
    "    shuffle=True,\n",
    "    batch_size=32\n",
    ")"
   ]
  },
  {
   "cell_type": "code",
   "execution_count": 23,
   "metadata": {},
   "outputs": [],
   "source": [
    "import datetime\n",
    "import torch\n",
    "import torch.nn as nn\n",
    "import torch.nn.functional as F\n",
    "\n",
    "class Net(nn.Module):\n",
    "    def __init__(self, n):\n",
    "        super().__init__()\n",
    "        self.conv1 = nn.Conv2d(3,n,kernel_size=3, padding=1)\n",
    "        self.conv2 = nn.Conv2d(n,n//2,kernel_size=3, padding=1)\n",
    "        self.conv3 = nn.Conv2d(n//2,n//2,kernel_size=3, padding=1)\n",
    "\n",
    "        self.ch = 4 * 4 * (n//2)\n",
    "        self.fc1 = nn.Linear(self.ch, 32)\n",
    "        self.fc2 = nn.Linear(32, 27)\n",
    "\n",
    "    def forward(self, x):\n",
    "        out = F.max_pool2d(torch.tanh(self.conv1(x)), 2)\n",
    "        out = F.max_pool2d(torch.tanh(self.conv2(out)), 2)\n",
    "        out = F.max_pool2d(torch.tanh(self.conv3(out)), 2)\n",
    "        out = out.view(-1, self.ch)\n",
    "        out = torch.tanh(self.fc1(out))\n",
    "        out = self.fc2(out)\n",
    "        out = F.log_softmax(out,dim=1)\n",
    "        return out\n",
    "\n",
    "class Net_Skip(nn.Module):\n",
    "    def __init__(self, n):\n",
    "        super().__init__()\n",
    "        self.conv1 = nn.Conv2d(3,n,kernel_size=3, padding=1)\n",
    "        self.conv2 = nn.Conv2d(n,n//2,kernel_size=3, padding=1)\n",
    "        self.conv3 = nn.Conv2d(n//2,n//2,kernel_size=3, padding=1)\n",
    "\n",
    "        self.ch = 4 * 4 * (n//2)\n",
    "        self.fc1 = nn.Linear(self.ch, 32)\n",
    "        self.fc2 = nn.Linear(32, 3)\n",
    "    \n",
    "    def forward(self, x):\n",
    "        out = F.max_pool2d(torch.tanh(self.conv1(x)), 2)\n",
    "        out = F.max_pool2d(torch.tanh(self.conv2(out)), 2)\n",
    "        out1 = out\n",
    "        out = F.max_pool2d(torch.tanh(self.conv3(out)) + out1, 2)\n",
    "        out = out.view(-1, self.ch)\n",
    "        out = torch.tanh(self.fc1(out))\n",
    "        out = self.fc2(out)\n",
    "        out = F.log_softmax(out,dim=1)\n",
    "        return out\n",
    "\n",
    "\n",
    "class Net_Dropout(nn.Module):\n",
    "    def __init__(self, n):\n",
    "        super().__init__()\n",
    "        self.conv1 = nn.Conv2d(3,n,kernel_size=3, padding=1)\n",
    "        self.conv1_dropout = nn.Dropout2d(p=0.3)\n",
    "        self.conv2 = nn.Conv2d(n,n//2,kernel_size=3, padding=1)\n",
    "        self.conv2_dropout = nn.Dropout2d(p=0.3)\n",
    "        self.conv3 = nn.Conv2d(n//2,n//2,kernel_size=3, padding=1)\n",
    "        self.conv3_dropout = nn.Dropout2d(p=0.3)\n",
    "\n",
    "        self.ch = 4 * 4 * (n//2)\n",
    "        self.fc1 = nn.Linear(self.ch, 32)\n",
    "        self.fc2 = nn.Linear(32, 3)\n",
    "    \n",
    "    def forward(self, x):\n",
    "        out = F.max_pool2d(torch.tanh(self.conv1(x)), 2)\n",
    "        out = self.conv1_dropout(out)\n",
    "        out = F.max_pool2d(torch.tanh(self.conv2(out)), 2)\n",
    "        out = self.conv2_dropout(out)\n",
    "        out = F.max_pool2d(torch.tanh(self.conv3(out)), 2)\n",
    "        out = self.conv3_dropout(out)\n",
    "        out = out.view(-1, self.ch)\n",
    "        out = torch.tanh(self.fc1(out))\n",
    "        out = self.fc2(out)\n",
    "        out = F.log_softmax(out,dim=1)\n",
    "        return out\n",
    "\n",
    "\n",
    "def training_function(train_loader, model, loss_fn, optimizer, device, n_epochs):\n",
    "    for epoch in range(1, n_epochs + 1):\n",
    "        loss_train = 0.0\n",
    "        for imgs, labels in train_loader:\n",
    "            labels = labels.flatten() # this is needed because for some reason every label is in a seperate tensor\n",
    "            # print(labels)\n",
    "            # print(imgs.shape)\n",
    "            imgs = imgs.to(device=device)\n",
    "            labels = labels.to(device=device)\n",
    "            outputs = model(imgs).to(device=device)\n",
    "            loss = loss_fn(outputs, labels)\n",
    "\n",
    "            optimizer.zero_grad()\n",
    "            loss.backward()\n",
    "            optimizer.step()\n",
    "\n",
    "            loss_train += loss.item()\n",
    "\n",
    "        if epoch == 1 or epoch % 10 == 0:\n",
    "            print('{} Epoch {}, Training loss {}'.format(\n",
    "                datetime.datetime.now(), epoch,\n",
    "                loss_train / len(train_loader)))\n",
    "\n",
    "\n",
    "def validate(model, train_loader, val_loader, device):\n",
    "    for name, loader in [(\"train\", train_loader), (\"val\", val_loader)]:\n",
    "        correct = 0\n",
    "        total = 0\n",
    "        with torch.no_grad():\n",
    "            for imgs, labels in loader:\n",
    "                # labels = labels.flatten()\n",
    "                imgs = imgs.to(device=device)\n",
    "                labels = labels.to(device=device)\n",
    "                outputs = model(imgs).to(device=device)\n",
    "                _, predicted = torch.max(outputs, dim=1)\n",
    "                total += labels.shape[0]\n",
    "                correct += int((predicted == labels).sum())\n",
    "        print(\"Accuracy {}: {:.6f}\".format(name, correct / total))"
   ]
  },
  {
   "cell_type": "code",
   "execution_count": 24,
   "metadata": {},
   "outputs": [
    {
     "name": "stdout",
     "output_type": "stream",
     "text": [
      "Training on cuda:\n",
      "\tdevice: NVIDIA GeForce RTX 3060 Ti\n",
      "\tSize of wikiart: 11\n"
     ]
    },
    {
     "name": "stderr",
     "output_type": "stream",
     "text": [
      "Please wait, filling up the shuffle buffer with samples.:  37%|███▋      | 720M/1.91G [00:04<00:07, 171MB/s]  \n"
     ]
    },
    {
     "name": "stdout",
     "output_type": "stream",
     "text": [
      "Shuffle buffer filling is complete.\n",
      "2022-12-16 10:26:37.125014 Epoch 1, Training loss 3.1730652072212915\n"
     ]
    },
    {
     "name": "stderr",
     "output_type": "stream",
     "text": [
      "Please wait, filling up the shuffle buffer with samples.:  37%|███▋      | 720M/1.91G [00:04<00:07, 175MB/s]  \n"
     ]
    },
    {
     "name": "stdout",
     "output_type": "stream",
     "text": [
      "Shuffle buffer filling is complete.\n",
      "196 32\n",
      "486 64\n",
      "695 96\n",
      "1107 128\n",
      "1307 160\n",
      "1692 192\n",
      "1976 224\n",
      "2200 256\n",
      "2522 288\n",
      "2766 320\n",
      "2886 339\n",
      "Accuracy train: 8.513274\n"
     ]
    },
    {
     "name": "stderr",
     "output_type": "stream",
     "text": [
      "Please wait, filling up the shuffle buffer with samples.:  11%|█         | 212M/1.91G [00:02<00:20, 89.5MB/s] \n"
     ]
    },
    {
     "name": "stdout",
     "output_type": "stream",
     "text": [
      "Shuffle buffer filling is complete.\n",
      "0 32\n",
      "0 64\n",
      "0 85\n",
      "Accuracy val: 0.000000\n"
     ]
    }
   ],
   "source": [
    "import torch\n",
    "import torch.optim as optim\n",
    "\n",
    "device = (torch.device('cuda') if torch.cuda.is_available()\n",
    "                      else torch.device('cpu'))\n",
    "\n",
    "cnn32 = Net(32)\n",
    "\n",
    "print(f\"Training on {device}:\")\n",
    "print(f\"\\tdevice: {torch.cuda.get_device_name(0)}\")\n",
    "print(\"\\tSize of wikiart:\", len(wikiart_train))\n",
    "\n",
    "training_function(\n",
    "    train_loader = wikiart_train,\n",
    "    model = cnn32.to(device=device),\n",
    "    loss_fn = nn.NLLLoss(),\n",
    "    optimizer = optim.SGD(cnn32.parameters(), lr=1e-2),\n",
    "    device=device,\n",
    "    n_epochs = 1,\n",
    ")\n",
    "\n",
    "validate(cnn32.to(device=device), wikiart_train, wikiart_validate, device)"
   ]
  }
 ],
 "metadata": {
  "kernelspec": {
   "display_name": "Python 3",
   "language": "python",
   "name": "python3"
  },
  "language_info": {
   "codemirror_mode": {
    "name": "ipython",
    "version": 3
   },
   "file_extension": ".py",
   "mimetype": "text/x-python",
   "name": "python",
   "nbconvert_exporter": "python",
   "pygments_lexer": "ipython3",
   "version": "3.10.4 (v3.10.4:9d38120e33, Mar 23 2022, 17:29:05) [Clang 13.0.0 (clang-1300.0.29.30)]"
  },
  "orig_nbformat": 4,
  "vscode": {
   "interpreter": {
    "hash": "aee8b7b246df8f9039afb4144a1f6fd8d2ca17a180786b69acc140d282b71a49"
   }
  }
 },
 "nbformat": 4,
 "nbformat_minor": 2
}
