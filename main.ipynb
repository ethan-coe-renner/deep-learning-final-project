{
 "cells": [
  {
   "cell_type": "code",
   "execution_count": 1,
   "metadata": {},
   "outputs": [],
   "source": [
    "import os\n",
    "os.environ[\"DEEPLAKE_DOWNLOAD_PATH\"] = \"./dataset\""
   ]
  },
  {
   "cell_type": "code",
   "execution_count": 22,
   "metadata": {},
   "outputs": [
    {
     "name": "stdout",
     "output_type": "stream",
     "text": [
      "./dataset\\hub_activeloop_wiki-art loaded successfully.\n",
      "** Loaded local copy of dataset. Downloaded on: Wed Dec 14 00:48:59 2022\n"
     ]
    },
    {
     "name": "stderr",
     "output_type": "stream",
     "text": [
      "100%|██████████| 81433/81433 [00:02<00:00, 28260.42it/s]\n",
      "c:\\Users\\ramon\\Developer\\.venv\\lib\\site-packages\\deeplake\\integrations\\pytorch\\common.py:91: UserWarning: Decode method for tensors ['images'] is defaulting to numpy. Please consider specifying a decode_method in .pytorch() that maximizes the data preprocessing speed based on your transformation.\n",
      "  warnings.warn(\n"
     ]
    },
    {
     "name": "stdout",
     "output_type": "stream",
     "text": [
      "Unfiltered len: 81433\n",
      "Filtered len: 30808\n",
      "Train: 24646\n",
      "Validate: 6162\n"
     ]
    }
   ],
   "source": [
    "import deeplake\n",
    "from torchvision import transforms\n",
    "from pprint import pprint\n",
    "import numpy as np\n",
    "\n",
    "ds = deeplake.dataset('hub://activeloop/wiki-art', access_method = 'local')\n",
    "\n",
    "filtered_labels = ['realism', 'impressionism', 'romanticism']\n",
    "@deeplake.compute\n",
    "def filter_labels(sample_in, labels_list):\n",
    "    return sample_in.labels.data()['text'][0] in labels_list\n",
    "\n",
    "ds_view = ds.filter(filter_labels(filtered_labels), scheduler = 'threaded', num_workers = 0)\n",
    "print(\"Unfiltered len:\", len(ds))\n",
    "print(\"Filtered len:\", len(ds_view))\n",
    "\n",
    "first_eighty = int(len(ds_view) * 0.8)\n",
    "train = ds_view[:first_eighty]\n",
    "validate = ds_view[first_eighty:]\n",
    "\n",
    "print(\"Train:\", len(train))\n",
    "print(\"Validate:\", len(validate))\n",
    "\n",
    "transformation = transforms.Compose([\n",
    "    transforms.ToTensor(),\n",
    "    # TODO: figure out these values\n",
    "    transforms.Normalize((0.4914, 0.4822, 0.4465),\n",
    "                         (0.2470, 0.2435, 0.2616)),\n",
    "\n",
    "    # TODO: figure out a reasonable value here\n",
    "    transforms.CenterCrop(32)\n",
    "])\n",
    "\n",
    "wikiart = train.pytorch( \n",
    "    transform={'images': transformation, 'labels': None},\n",
    "    tensors=[\"images\", \"labels\"],\n",
    "    # decode_method={'images':'pil', 'labels': 'numpy'},\n",
    "    shuffle=True,\n",
    "    batch_size=32\n",
    ")"
   ]
  },
  {
   "cell_type": "code",
   "execution_count": 18,
   "metadata": {},
   "outputs": [],
   "source": [
    "import datetime\n",
    "import torch\n",
    "import torch.nn as nn\n",
    "import torch.nn.functional as F\n",
    "\n",
    "class Net(nn.Module):\n",
    "    def __init__(self, n):\n",
    "        super().__init__()\n",
    "        self.conv1 = nn.Conv2d(3,n,kernel_size=3, padding=1)\n",
    "        self.conv2 = nn.Conv2d(n,n//2,kernel_size=3, padding=1)\n",
    "        self.conv3 = nn.Conv2d(n//2,n//2,kernel_size=3, padding=1)\n",
    "\n",
    "        self.ch = 4 * 4 * (n//2)\n",
    "        self.fc1 = nn.Linear(self.ch, 32)\n",
    "        self.fc2 = nn.Linear(32, 27)\n",
    "\n",
    "    def forward(self, x):\n",
    "        out = F.max_pool2d(torch.tanh(self.conv1(x)), 2)\n",
    "        out = F.max_pool2d(torch.tanh(self.conv2(out)), 2)\n",
    "        out = F.max_pool2d(torch.tanh(self.conv3(out)), 2)\n",
    "        out = out.view(-1, self.ch)\n",
    "        out = torch.tanh(self.fc1(out))\n",
    "        out = self.fc2(out)\n",
    "        out = F.log_softmax(out,dim=1)\n",
    "        return out\n",
    "\n",
    "\n",
    "def training_function(train_loader, model, loss_fn, optimizer, device, n_epochs):\n",
    "    for epoch in range(1, n_epochs + 1):\n",
    "        loss_train = 0.0\n",
    "        for imgs, labels in train_loader:\n",
    "            labels = labels.flatten() # this is needed because for some reason every label is in a seperate tensor\n",
    "            # print(labels)\n",
    "            # print(imgs.shape)\n",
    "            imgs = imgs.to(device=device)\n",
    "            labels = labels.to(device=device)\n",
    "            outputs = model(imgs)\n",
    "            loss = loss_fn(outputs, labels)\n",
    "\n",
    "            optimizer.zero_grad()\n",
    "            loss.backward()\n",
    "            optimizer.step()\n",
    "\n",
    "            loss_train += loss.item()\n",
    "\n",
    "        print('{} Epoch {}, Training loss {}'.format(\n",
    "            datetime.datetime.now(), epoch,\n",
    "            loss_train / len(train_loader)))\n",
    "\n",
    "\n",
    "cnn32 = Net(32)"
   ]
  },
  {
   "cell_type": "code",
   "execution_count": 19,
   "metadata": {},
   "outputs": [
    {
     "name": "stdout",
     "output_type": "stream",
     "text": [
      "Training on cuda:\n",
      "\tdevice: NVIDIA GeForce RTX 3060 Ti\n",
      "\tSize of wikiart: 963\n"
     ]
    },
    {
     "name": "stderr",
     "output_type": "stream",
     "text": [
      "Please wait, filling up the shuffle buffer with samples.:  99%|█████████▉| 1.90G/1.91G [00:09<00:00, 223MB/s]\n"
     ]
    },
    {
     "name": "stdout",
     "output_type": "stream",
     "text": [
      "Shuffle buffer filling is complete.\n"
     ]
    },
    {
     "ename": "KeyboardInterrupt",
     "evalue": "",
     "output_type": "error",
     "traceback": [
      "\u001b[1;31m---------------------------------------------------------------------------\u001b[0m",
      "\u001b[1;31mKeyboardInterrupt\u001b[0m                         Traceback (most recent call last)",
      "Cell \u001b[1;32mIn[19], line 11\u001b[0m\n\u001b[0;32m      8\u001b[0m \u001b[39mprint\u001b[39m(\u001b[39mf\u001b[39m\u001b[39m\"\u001b[39m\u001b[39m\\t\u001b[39;00m\u001b[39mdevice: \u001b[39m\u001b[39m{\u001b[39;00mtorch\u001b[39m.\u001b[39mcuda\u001b[39m.\u001b[39mget_device_name(\u001b[39m0\u001b[39m)\u001b[39m}\u001b[39;00m\u001b[39m\"\u001b[39m)\n\u001b[0;32m      9\u001b[0m \u001b[39mprint\u001b[39m(\u001b[39m\"\u001b[39m\u001b[39m\\t\u001b[39;00m\u001b[39mSize of wikiart:\u001b[39m\u001b[39m\"\u001b[39m, \u001b[39mlen\u001b[39m(wikiart))\n\u001b[1;32m---> 11\u001b[0m training_function(\n\u001b[0;32m     12\u001b[0m     train_loader \u001b[39m=\u001b[39;49m wikiart,\n\u001b[0;32m     13\u001b[0m     model \u001b[39m=\u001b[39;49m cnn32\u001b[39m.\u001b[39;49mto(device\u001b[39m=\u001b[39;49mdevice),\n\u001b[0;32m     14\u001b[0m     loss_fn \u001b[39m=\u001b[39;49m nn\u001b[39m.\u001b[39;49mNLLLoss(),\n\u001b[0;32m     15\u001b[0m     optimizer \u001b[39m=\u001b[39;49m optim\u001b[39m.\u001b[39;49mSGD(cnn32\u001b[39m.\u001b[39;49mparameters(), lr\u001b[39m=\u001b[39;49m\u001b[39m1e-2\u001b[39;49m),\n\u001b[0;32m     16\u001b[0m     device\u001b[39m=\u001b[39;49mdevice,\n\u001b[0;32m     17\u001b[0m     n_epochs \u001b[39m=\u001b[39;49m \u001b[39m2\u001b[39;49m,\n\u001b[0;32m     18\u001b[0m )\n",
      "Cell \u001b[1;32mIn[18], line 31\u001b[0m, in \u001b[0;36mtraining_function\u001b[1;34m(train_loader, model, loss_fn, optimizer, device, n_epochs)\u001b[0m\n\u001b[0;32m     29\u001b[0m \u001b[39mfor\u001b[39;00m epoch \u001b[39min\u001b[39;00m \u001b[39mrange\u001b[39m(\u001b[39m1\u001b[39m, n_epochs \u001b[39m+\u001b[39m \u001b[39m1\u001b[39m):\n\u001b[0;32m     30\u001b[0m     loss_train \u001b[39m=\u001b[39m \u001b[39m0.0\u001b[39m\n\u001b[1;32m---> 31\u001b[0m     \u001b[39mfor\u001b[39;00m imgs, labels \u001b[39min\u001b[39;00m train_loader:\n\u001b[0;32m     32\u001b[0m         labels \u001b[39m=\u001b[39m labels\u001b[39m.\u001b[39mflatten() \u001b[39m# this is needed because for some reason every label is in a seperate tensor\u001b[39;00m\n\u001b[0;32m     33\u001b[0m         \u001b[39m# print(labels)\u001b[39;00m\n\u001b[0;32m     34\u001b[0m         \u001b[39m# print(imgs.shape)\u001b[39;00m\n",
      "File \u001b[1;32mc:\\Users\\ramon\\Developer\\.venv\\lib\\site-packages\\torch\\utils\\data\\dataloader.py:628\u001b[0m, in \u001b[0;36m_BaseDataLoaderIter.__next__\u001b[1;34m(self)\u001b[0m\n\u001b[0;32m    625\u001b[0m \u001b[39mif\u001b[39;00m \u001b[39mself\u001b[39m\u001b[39m.\u001b[39m_sampler_iter \u001b[39mis\u001b[39;00m \u001b[39mNone\u001b[39;00m:\n\u001b[0;32m    626\u001b[0m     \u001b[39m# TODO(https://github.com/pytorch/pytorch/issues/76750)\u001b[39;00m\n\u001b[0;32m    627\u001b[0m     \u001b[39mself\u001b[39m\u001b[39m.\u001b[39m_reset()  \u001b[39m# type: ignore[call-arg]\u001b[39;00m\n\u001b[1;32m--> 628\u001b[0m data \u001b[39m=\u001b[39m \u001b[39mself\u001b[39;49m\u001b[39m.\u001b[39;49m_next_data()\n\u001b[0;32m    629\u001b[0m \u001b[39mself\u001b[39m\u001b[39m.\u001b[39m_num_yielded \u001b[39m+\u001b[39m\u001b[39m=\u001b[39m \u001b[39m1\u001b[39m\n\u001b[0;32m    630\u001b[0m \u001b[39mif\u001b[39;00m \u001b[39mself\u001b[39m\u001b[39m.\u001b[39m_dataset_kind \u001b[39m==\u001b[39m _DatasetKind\u001b[39m.\u001b[39mIterable \u001b[39mand\u001b[39;00m \\\n\u001b[0;32m    631\u001b[0m         \u001b[39mself\u001b[39m\u001b[39m.\u001b[39m_IterableDataset_len_called \u001b[39mis\u001b[39;00m \u001b[39mnot\u001b[39;00m \u001b[39mNone\u001b[39;00m \u001b[39mand\u001b[39;00m \\\n\u001b[0;32m    632\u001b[0m         \u001b[39mself\u001b[39m\u001b[39m.\u001b[39m_num_yielded \u001b[39m>\u001b[39m \u001b[39mself\u001b[39m\u001b[39m.\u001b[39m_IterableDataset_len_called:\n",
      "File \u001b[1;32mc:\\Users\\ramon\\Developer\\.venv\\lib\\site-packages\\torch\\utils\\data\\dataloader.py:671\u001b[0m, in \u001b[0;36m_SingleProcessDataLoaderIter._next_data\u001b[1;34m(self)\u001b[0m\n\u001b[0;32m    669\u001b[0m \u001b[39mdef\u001b[39;00m \u001b[39m_next_data\u001b[39m(\u001b[39mself\u001b[39m):\n\u001b[0;32m    670\u001b[0m     index \u001b[39m=\u001b[39m \u001b[39mself\u001b[39m\u001b[39m.\u001b[39m_next_index()  \u001b[39m# may raise StopIteration\u001b[39;00m\n\u001b[1;32m--> 671\u001b[0m     data \u001b[39m=\u001b[39m \u001b[39mself\u001b[39;49m\u001b[39m.\u001b[39;49m_dataset_fetcher\u001b[39m.\u001b[39;49mfetch(index)  \u001b[39m# may raise StopIteration\u001b[39;00m\n\u001b[0;32m    672\u001b[0m     \u001b[39mif\u001b[39;00m \u001b[39mself\u001b[39m\u001b[39m.\u001b[39m_pin_memory:\n\u001b[0;32m    673\u001b[0m         data \u001b[39m=\u001b[39m _utils\u001b[39m.\u001b[39mpin_memory\u001b[39m.\u001b[39mpin_memory(data, \u001b[39mself\u001b[39m\u001b[39m.\u001b[39m_pin_memory_device)\n",
      "File \u001b[1;32mc:\\Users\\ramon\\Developer\\.venv\\lib\\site-packages\\torch\\utils\\data\\_utils\\fetch.py:34\u001b[0m, in \u001b[0;36m_IterableDatasetFetcher.fetch\u001b[1;34m(self, possibly_batched_index)\u001b[0m\n\u001b[0;32m     32\u001b[0m \u001b[39mfor\u001b[39;00m _ \u001b[39min\u001b[39;00m possibly_batched_index:\n\u001b[0;32m     33\u001b[0m     \u001b[39mtry\u001b[39;00m:\n\u001b[1;32m---> 34\u001b[0m         data\u001b[39m.\u001b[39mappend(\u001b[39mnext\u001b[39;49m(\u001b[39mself\u001b[39;49m\u001b[39m.\u001b[39;49mdataset_iter))\n\u001b[0;32m     35\u001b[0m     \u001b[39mexcept\u001b[39;00m \u001b[39mStopIteration\u001b[39;00m:\n\u001b[0;32m     36\u001b[0m         \u001b[39mself\u001b[39m\u001b[39m.\u001b[39mended \u001b[39m=\u001b[39m \u001b[39mTrue\u001b[39;00m\n",
      "File \u001b[1;32mc:\\Users\\ramon\\Developer\\.venv\\lib\\site-packages\\deeplake\\integrations\\pytorch\\dataset.py:532\u001b[0m, in \u001b[0;36mSubIterableDataset.__iter__\u001b[1;34m(self)\u001b[0m\n\u001b[0;32m    530\u001b[0m             result \u001b[39m=\u001b[39m buffer\u001b[39m.\u001b[39mexchange(val)\n\u001b[0;32m    531\u001b[0m             \u001b[39mif\u001b[39;00m result:\n\u001b[1;32m--> 532\u001b[0m                 \u001b[39myield\u001b[39;00m _process(result, \u001b[39mself\u001b[39;49m\u001b[39m.\u001b[39;49mtransform)\n\u001b[0;32m    533\u001b[0m         \u001b[39mdel\u001b[39;00m next_batch\n\u001b[0;32m    534\u001b[0m \u001b[39mexcept\u001b[39;00m \u001b[39mStopIteration\u001b[39;00m:\n",
      "File \u001b[1;32mc:\\Users\\ramon\\Developer\\.venv\\lib\\site-packages\\deeplake\\integrations\\pytorch\\dataset.py:83\u001b[0m, in \u001b[0;36m_process\u001b[1;34m(tensor, transform)\u001b[0m\n\u001b[0;32m     82\u001b[0m \u001b[39mdef\u001b[39;00m \u001b[39m_process\u001b[39m(tensor, transform: Optional[PytorchTransformFunction]):\n\u001b[1;32m---> 83\u001b[0m     tensor \u001b[39m=\u001b[39m IterableOrderedDict((k, copy_tensor(tensor[k])) \u001b[39mfor\u001b[39;49;00m k \u001b[39min\u001b[39;49;00m tensor\u001b[39m.\u001b[39;49mkeys())\n\u001b[0;32m     84\u001b[0m     \u001b[39mreturn\u001b[39;00m transform(tensor) \u001b[39mif\u001b[39;00m transform \u001b[39melse\u001b[39;00m tensor\n",
      "File \u001b[1;32mc:\\Users\\ramon\\Developer\\.venv\\lib\\site-packages\\deeplake\\integrations\\pytorch\\dataset.py:83\u001b[0m, in \u001b[0;36m<genexpr>\u001b[1;34m(.0)\u001b[0m\n\u001b[0;32m     82\u001b[0m \u001b[39mdef\u001b[39;00m \u001b[39m_process\u001b[39m(tensor, transform: Optional[PytorchTransformFunction]):\n\u001b[1;32m---> 83\u001b[0m     tensor \u001b[39m=\u001b[39m IterableOrderedDict((k, copy_tensor(tensor[k])) \u001b[39mfor\u001b[39;00m k \u001b[39min\u001b[39;00m tensor\u001b[39m.\u001b[39mkeys())\n\u001b[0;32m     84\u001b[0m     \u001b[39mreturn\u001b[39;00m transform(tensor) \u001b[39mif\u001b[39;00m transform \u001b[39melse\u001b[39;00m tensor\n",
      "File \u001b[1;32mc:\\Users\\ramon\\Developer\\.venv\\lib\\site-packages\\deeplake\\integrations\\pytorch\\dataset.py:76\u001b[0m, in \u001b[0;36mcopy_tensor\u001b[1;34m(x)\u001b[0m\n\u001b[0;32m     74\u001b[0m     \u001b[39mreturn\u001b[39;00m \u001b[39mbytes\u001b[39m(x)\n\u001b[0;32m     75\u001b[0m \u001b[39mif\u001b[39;00m copy \u001b[39mis\u001b[39;00m \u001b[39mNone\u001b[39;00m:\n\u001b[1;32m---> 76\u001b[0m     copy \u001b[39m=\u001b[39m x\u001b[39m.\u001b[39;49mcopy()\n\u001b[0;32m     77\u001b[0m \u001b[39mif\u001b[39;00m \u001b[39misinstance\u001b[39m(copy, Polygons):\n\u001b[0;32m     78\u001b[0m     copy \u001b[39m=\u001b[39m copy\u001b[39m.\u001b[39mnumpy()\n",
      "\u001b[1;31mKeyboardInterrupt\u001b[0m: "
     ]
    }
   ],
   "source": [
    "import torch\n",
    "import torch.optim as optim\n",
    "\n",
    "device = (torch.device('cuda') if torch.cuda.is_available()\n",
    "                      else torch.device('cpu'))\n",
    "\n",
    "print(f\"Training on {device}:\")\n",
    "print(f\"\\tdevice: {torch.cuda.get_device_name(0)}\")\n",
    "print(\"\\tSize of wikiart:\", len(wikiart))\n",
    "\n",
    "training_function(\n",
    "    train_loader = wikiart,\n",
    "    model = cnn32.to(device=device),\n",
    "    loss_fn = nn.NLLLoss(),\n",
    "    optimizer = optim.SGD(cnn32.parameters(), lr=1e-2),\n",
    "    device=device,\n",
    "    n_epochs = 2,\n",
    ")"
   ]
  }
 ],
 "metadata": {
  "kernelspec": {
   "display_name": ".venv",
   "language": "python",
   "name": "python3"
  },
  "language_info": {
   "codemirror_mode": {
    "name": "ipython",
    "version": 3
   },
   "file_extension": ".py",
   "mimetype": "text/x-python",
   "name": "python",
   "nbconvert_exporter": "python",
   "pygments_lexer": "ipython3",
   "version": "3.8.9"
  },
  "orig_nbformat": 4,
  "vscode": {
   "interpreter": {
    "hash": "e65492a0a5c92b4bc5b0942a6cc90be5b76ff7ee9f987c8ee4766f0870a8a585"
   }
  }
 },
 "nbformat": 4,
 "nbformat_minor": 2
}
